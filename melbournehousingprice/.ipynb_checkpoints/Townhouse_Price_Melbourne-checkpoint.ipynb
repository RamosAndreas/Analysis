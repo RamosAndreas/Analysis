{
 "cells": [
  {
   "cell_type": "markdown",
   "metadata": {
    "id": "sgMkXOS2hcjC"
   },
   "source": [
    "# $Log Activity$ #\n",
    "1) when did it exactly happen?\n",
    "\n",
    "2) Could you see it slowing down? What were the variables that showed the slowing down (was it overall price, amount sold vs unsold, change in more rentals sold and less housing, changes in which CouncilArea or Region, more houses sold in distances further away from Melbourne CBD and less closer)?\n",
    "\n",
    "3) Could you have predicted it (I'm not sure how you would do this, but I'm sure you magicians have a way that would make me think we should burn you for being a witch) \n",
    "\n",
    "4) Should I hold off even longer in buying a two bedroom apartment in Northcote? <-- This is the real reason for me in publishing this dataset :)\n",
    "\n",
    "Suburb: Suburb\n",
    "\n",
    "Address: Address\n",
    "\n",
    "Rooms: Number of rooms\n",
    "\n",
    "Price: Price in Australian dollars\n",
    "\n",
    "Method:\n",
    "S - property sold;\n",
    "SP - property sold prior;\n",
    "PI - property passed in;\n",
    "PN - sold prior not disclosed;\n",
    "SN - sold not disclosed;\n",
    "NB - no bid;\n",
    "VB - vendor bid;\n",
    "W - withdrawn prior to auction;\n",
    "SA - sold after auction;\n",
    "SS - sold after auction price not disclosed.\n",
    "N/A - price or highest bid not available.\n",
    "\n",
    "Type:\n",
    "br - bedroom(s);\n",
    "h - house,cottage,villa, semi,terrace;\n",
    "u - unit, duplex;\n",
    "t - townhouse;\n",
    "dev site - development site;\n",
    "o res - other residential.\n",
    "\n",
    "SellerG: Real Estate Agent\n",
    "\n",
    "Date: Date sold\n",
    "\n",
    "Distance: Distance from CBD in Kilometres\n",
    "\n",
    "Regionname: General Region (West, North West, North, North east …etc)\n",
    "\n",
    "Propertycount: Number of properties that exist in the suburb.\n",
    "\n",
    "Bedroom2 : Scraped # of Bedrooms (from different source)\n",
    "\n",
    "Bathroom: Number of Bathrooms\n",
    "\n",
    "Car: Number of carspots\n",
    "\n",
    "Landsize: Land Size in Metres\n",
    "\n",
    "BuildingArea: Building Size in Metres\n",
    "\n",
    "YearBuilt: Year the house was built\n",
    "\n",
    "CouncilArea: Governing council for the area\n",
    "\n",
    "Lattitude: Self explanitory\n",
    "\n",
    "Longtitude: Self explanitory"
   ]
  },
  {
   "cell_type": "code",
   "execution_count": 1,
   "metadata": {
    "id": "bLiaqsEq_jLt"
   },
   "outputs": [],
   "source": [
    "import pandas as pd\n",
    "from sklearn.model_selection import train_test_split, GridSearchCV\n",
    "from sklearn import ensemble\n",
    "from sklearn.metrics import mean_absolute_error, classification_report\n",
    "from statsmodels.stats.outliers_influence import variance_inflation_factor\n",
    "import joblib\n",
    "import matplotlib.pyplot as plt\n",
    "import numpy as np\n",
    "import seaborn as sns"
   ]
  },
  {
   "cell_type": "markdown",
   "metadata": {
    "id": "qz2UlPCcAd-l"
   },
   "source": [
    "#**METHOD GLOSSARIUM**\n",
    "\n",
    "---\n",
    "\n",
    "\n",
    "\n",
    "> VB (Vendor Bid): \n",
    "A bid made by the auctioneer on behalf of the vendor. It's not an actual bid to buy the property; rather, it's a public statement that the seller is not happy with the amount of the last bid, and is used to keep the bidding moving forward.\n",
    "\n",
    "> PI (Passed In): The bidding has not reached the vendor’s reserve price (the minimum price that they’re prepared to sell at). The vendor is opting not to sell the property for the highest bid that was achieved at auction. A property can be passed in on either a bid from the crowd or a vendor bid.\n",
    "\n",
    "> SP (Sold Prior): Selling prior to auction usually happens when there is only one buyer, or one buyer who has established themselves as superior to the rest of the competition. There are generally two types of offers before auction:\n",
    "One is someone who makes a cheeky offer that is well below their maximum price to see if the owner will bite.\n",
    "The other, which is less common, is a buyer who makes a strong offer before auction, under the proviso that they will walk away if the vendor doesn’t accept it.\n",
    "\n",
    "> SA (Sold After): If a property fails to meet its reserve it will be classified as unsold, however it will still generally be available for sale after the auction, usually at the reserve price. The main advantage of buying unsold property after auction is that the auctioneer will generally disclose the reserve price.\n",
    "\n",
    "> S (Property Sold): when a seller accepts an offer from a buyer and the title transfers to the new owners.\n",
    "\n",
    "> PN (Sold Prior Not Disclosed): property sold before auction without price disclosure from seller\n",
    "\n",
    "> SS (sold after auction price not disclosed)\n",
    "\n",
    "> SN (sold not disclosed)\n",
    "\n",
    "> W (withdrawn prior to auction)\n",
    "\n",
    "\n",
    "\n",
    "\n",
    "\n",
    "\n",
    "\n",
    "\n"
   ]
  },
  {
   "cell_type": "markdown",
   "metadata": {
    "id": "dDZjnbCoHzXb"
   },
   "source": [
    "# IMPORT DATA"
   ]
  },
  {
   "cell_type": "code",
   "execution_count": 2,
   "metadata": {
    "id": "Y3iS-lm1ABVs"
   },
   "outputs": [],
   "source": [
    "df = pd.read_csv(r\"C:\\Users\\amoss\\Analysis\\melbournehousingprice\\Melbourne_housing_FULL.csv\")\n",
    "pd.set_option('display.max_columns', None)"
   ]
  },
  {
   "cell_type": "code",
   "execution_count": 3,
   "metadata": {
    "colab": {
     "base_uri": "https://localhost:8080/",
     "height": 374
    },
    "id": "lokenAHGBOkz",
    "outputId": "e3757683-8b04-4523-8409-2f52ae9c1e71"
   },
   "outputs": [
    {
     "data": {
      "text/html": [
       "<div>\n",
       "<style scoped>\n",
       "    .dataframe tbody tr th:only-of-type {\n",
       "        vertical-align: middle;\n",
       "    }\n",
       "\n",
       "    .dataframe tbody tr th {\n",
       "        vertical-align: top;\n",
       "    }\n",
       "\n",
       "    .dataframe thead th {\n",
       "        text-align: right;\n",
       "    }\n",
       "</style>\n",
       "<table border=\"1\" class=\"dataframe\">\n",
       "  <thead>\n",
       "    <tr style=\"text-align: right;\">\n",
       "      <th></th>\n",
       "      <th>Suburb</th>\n",
       "      <th>Address</th>\n",
       "      <th>Rooms</th>\n",
       "      <th>Type</th>\n",
       "      <th>Price</th>\n",
       "      <th>Method</th>\n",
       "      <th>SellerG</th>\n",
       "      <th>Date</th>\n",
       "      <th>Distance</th>\n",
       "      <th>Postcode</th>\n",
       "      <th>Bedroom2</th>\n",
       "      <th>Bathroom</th>\n",
       "      <th>Car</th>\n",
       "      <th>Landsize</th>\n",
       "      <th>BuildingArea</th>\n",
       "      <th>YearBuilt</th>\n",
       "      <th>CouncilArea</th>\n",
       "      <th>Lattitude</th>\n",
       "      <th>Longtitude</th>\n",
       "      <th>Regionname</th>\n",
       "      <th>Propertycount</th>\n",
       "    </tr>\n",
       "  </thead>\n",
       "  <tbody>\n",
       "    <tr>\n",
       "      <th>0</th>\n",
       "      <td>Abbotsford</td>\n",
       "      <td>68 Studley St</td>\n",
       "      <td>2</td>\n",
       "      <td>h</td>\n",
       "      <td>NaN</td>\n",
       "      <td>SS</td>\n",
       "      <td>Jellis</td>\n",
       "      <td>3/09/2016</td>\n",
       "      <td>2.5</td>\n",
       "      <td>3067.0</td>\n",
       "      <td>2.0</td>\n",
       "      <td>1.0</td>\n",
       "      <td>1.0</td>\n",
       "      <td>126.0</td>\n",
       "      <td>NaN</td>\n",
       "      <td>NaN</td>\n",
       "      <td>Yarra City Council</td>\n",
       "      <td>-37.8014</td>\n",
       "      <td>144.9958</td>\n",
       "      <td>Northern Metropolitan</td>\n",
       "      <td>4019.0</td>\n",
       "    </tr>\n",
       "    <tr>\n",
       "      <th>1</th>\n",
       "      <td>Abbotsford</td>\n",
       "      <td>85 Turner St</td>\n",
       "      <td>2</td>\n",
       "      <td>h</td>\n",
       "      <td>1480000.0</td>\n",
       "      <td>S</td>\n",
       "      <td>Biggin</td>\n",
       "      <td>3/12/2016</td>\n",
       "      <td>2.5</td>\n",
       "      <td>3067.0</td>\n",
       "      <td>2.0</td>\n",
       "      <td>1.0</td>\n",
       "      <td>1.0</td>\n",
       "      <td>202.0</td>\n",
       "      <td>NaN</td>\n",
       "      <td>NaN</td>\n",
       "      <td>Yarra City Council</td>\n",
       "      <td>-37.7996</td>\n",
       "      <td>144.9984</td>\n",
       "      <td>Northern Metropolitan</td>\n",
       "      <td>4019.0</td>\n",
       "    </tr>\n",
       "    <tr>\n",
       "      <th>2</th>\n",
       "      <td>Abbotsford</td>\n",
       "      <td>25 Bloomburg St</td>\n",
       "      <td>2</td>\n",
       "      <td>h</td>\n",
       "      <td>1035000.0</td>\n",
       "      <td>S</td>\n",
       "      <td>Biggin</td>\n",
       "      <td>4/02/2016</td>\n",
       "      <td>2.5</td>\n",
       "      <td>3067.0</td>\n",
       "      <td>2.0</td>\n",
       "      <td>1.0</td>\n",
       "      <td>0.0</td>\n",
       "      <td>156.0</td>\n",
       "      <td>79.0</td>\n",
       "      <td>1900.0</td>\n",
       "      <td>Yarra City Council</td>\n",
       "      <td>-37.8079</td>\n",
       "      <td>144.9934</td>\n",
       "      <td>Northern Metropolitan</td>\n",
       "      <td>4019.0</td>\n",
       "    </tr>\n",
       "    <tr>\n",
       "      <th>3</th>\n",
       "      <td>Abbotsford</td>\n",
       "      <td>18/659 Victoria St</td>\n",
       "      <td>3</td>\n",
       "      <td>u</td>\n",
       "      <td>NaN</td>\n",
       "      <td>VB</td>\n",
       "      <td>Rounds</td>\n",
       "      <td>4/02/2016</td>\n",
       "      <td>2.5</td>\n",
       "      <td>3067.0</td>\n",
       "      <td>3.0</td>\n",
       "      <td>2.0</td>\n",
       "      <td>1.0</td>\n",
       "      <td>0.0</td>\n",
       "      <td>NaN</td>\n",
       "      <td>NaN</td>\n",
       "      <td>Yarra City Council</td>\n",
       "      <td>-37.8114</td>\n",
       "      <td>145.0116</td>\n",
       "      <td>Northern Metropolitan</td>\n",
       "      <td>4019.0</td>\n",
       "    </tr>\n",
       "    <tr>\n",
       "      <th>4</th>\n",
       "      <td>Abbotsford</td>\n",
       "      <td>5 Charles St</td>\n",
       "      <td>3</td>\n",
       "      <td>h</td>\n",
       "      <td>1465000.0</td>\n",
       "      <td>SP</td>\n",
       "      <td>Biggin</td>\n",
       "      <td>4/03/2017</td>\n",
       "      <td>2.5</td>\n",
       "      <td>3067.0</td>\n",
       "      <td>3.0</td>\n",
       "      <td>2.0</td>\n",
       "      <td>0.0</td>\n",
       "      <td>134.0</td>\n",
       "      <td>150.0</td>\n",
       "      <td>1900.0</td>\n",
       "      <td>Yarra City Council</td>\n",
       "      <td>-37.8093</td>\n",
       "      <td>144.9944</td>\n",
       "      <td>Northern Metropolitan</td>\n",
       "      <td>4019.0</td>\n",
       "    </tr>\n",
       "  </tbody>\n",
       "</table>\n",
       "</div>"
      ],
      "text/plain": [
       "       Suburb             Address  Rooms Type      Price Method SellerG  \\\n",
       "0  Abbotsford       68 Studley St      2    h        NaN     SS  Jellis   \n",
       "1  Abbotsford        85 Turner St      2    h  1480000.0      S  Biggin   \n",
       "2  Abbotsford     25 Bloomburg St      2    h  1035000.0      S  Biggin   \n",
       "3  Abbotsford  18/659 Victoria St      3    u        NaN     VB  Rounds   \n",
       "4  Abbotsford        5 Charles St      3    h  1465000.0     SP  Biggin   \n",
       "\n",
       "        Date  Distance  Postcode  Bedroom2  Bathroom  Car  Landsize  \\\n",
       "0  3/09/2016       2.5    3067.0       2.0       1.0  1.0     126.0   \n",
       "1  3/12/2016       2.5    3067.0       2.0       1.0  1.0     202.0   \n",
       "2  4/02/2016       2.5    3067.0       2.0       1.0  0.0     156.0   \n",
       "3  4/02/2016       2.5    3067.0       3.0       2.0  1.0       0.0   \n",
       "4  4/03/2017       2.5    3067.0       3.0       2.0  0.0     134.0   \n",
       "\n",
       "   BuildingArea  YearBuilt         CouncilArea  Lattitude  Longtitude  \\\n",
       "0           NaN        NaN  Yarra City Council   -37.8014    144.9958   \n",
       "1           NaN        NaN  Yarra City Council   -37.7996    144.9984   \n",
       "2          79.0     1900.0  Yarra City Council   -37.8079    144.9934   \n",
       "3           NaN        NaN  Yarra City Council   -37.8114    145.0116   \n",
       "4         150.0     1900.0  Yarra City Council   -37.8093    144.9944   \n",
       "\n",
       "              Regionname  Propertycount  \n",
       "0  Northern Metropolitan         4019.0  \n",
       "1  Northern Metropolitan         4019.0  \n",
       "2  Northern Metropolitan         4019.0  \n",
       "3  Northern Metropolitan         4019.0  \n",
       "4  Northern Metropolitan         4019.0  "
      ]
     },
     "execution_count": 3,
     "metadata": {},
     "output_type": "execute_result"
    }
   ],
   "source": [
    "df.head()"
   ]
  },
  {
   "cell_type": "code",
   "execution_count": 4,
   "metadata": {
    "colab": {
     "base_uri": "https://localhost:8080/"
    },
    "id": "5T8wTDnMM_1d",
    "outputId": "4cc895fa-3573-4339-a976-681fca861fa1"
   },
   "outputs": [
    {
     "data": {
      "text/plain": [
       "(34857, 21)"
      ]
     },
     "execution_count": 4,
     "metadata": {},
     "output_type": "execute_result"
    }
   ],
   "source": [
    "df.shape"
   ]
  },
  {
   "cell_type": "code",
   "execution_count": 5,
   "metadata": {
    "colab": {
     "base_uri": "https://localhost:8080/"
    },
    "id": "VPtgO9YTPSjB",
    "outputId": "ee4b6bb3-e3b2-488a-a81b-50872dbff790"
   },
   "outputs": [
    {
     "name": "stdout",
     "output_type": "stream",
     "text": [
      "<class 'pandas.core.frame.DataFrame'>\n",
      "RangeIndex: 34857 entries, 0 to 34856\n",
      "Data columns (total 21 columns):\n",
      " #   Column         Non-Null Count  Dtype  \n",
      "---  ------         --------------  -----  \n",
      " 0   Suburb         34857 non-null  object \n",
      " 1   Address        34857 non-null  object \n",
      " 2   Rooms          34857 non-null  int64  \n",
      " 3   Type           34857 non-null  object \n",
      " 4   Price          27247 non-null  float64\n",
      " 5   Method         34857 non-null  object \n",
      " 6   SellerG        34857 non-null  object \n",
      " 7   Date           34857 non-null  object \n",
      " 8   Distance       34856 non-null  float64\n",
      " 9   Postcode       34856 non-null  float64\n",
      " 10  Bedroom2       26640 non-null  float64\n",
      " 11  Bathroom       26631 non-null  float64\n",
      " 12  Car            26129 non-null  float64\n",
      " 13  Landsize       23047 non-null  float64\n",
      " 14  BuildingArea   13742 non-null  float64\n",
      " 15  YearBuilt      15551 non-null  float64\n",
      " 16  CouncilArea    34854 non-null  object \n",
      " 17  Lattitude      26881 non-null  float64\n",
      " 18  Longtitude     26881 non-null  float64\n",
      " 19  Regionname     34854 non-null  object \n",
      " 20  Propertycount  34854 non-null  float64\n",
      "dtypes: float64(12), int64(1), object(8)\n",
      "memory usage: 5.6+ MB\n"
     ]
    }
   ],
   "source": [
    "df.info()"
   ]
  },
  {
   "cell_type": "code",
   "execution_count": 6,
   "metadata": {
    "id": "SdaEJvtsgCTu"
   },
   "outputs": [],
   "source": [
    "cat = ['Suburb', 'Address', 'Type', 'Method', 'SellerG', 'Date',\n",
    "       'CouncilArea', 'Regionname']\n",
    "num = ['Rooms', 'Price', 'Distance', 'Postcode', 'Bedroom2', 'Bathroom', \n",
    "       'Car', 'Landsize', 'BuildingArea', 'YearBuilt', 'Lattitude',\n",
    "       'Longtitude', 'Propertycount']"
   ]
  },
  {
   "cell_type": "code",
   "execution_count": 7,
   "metadata": {
    "colab": {
     "base_uri": "https://localhost:8080/",
     "height": 175
    },
    "id": "euob2e0xguD8",
    "outputId": "5bd9dc44-add9-4c21-c72f-4fc8070f244b"
   },
   "outputs": [
    {
     "data": {
      "text/html": [
       "<div>\n",
       "<style scoped>\n",
       "    .dataframe tbody tr th:only-of-type {\n",
       "        vertical-align: middle;\n",
       "    }\n",
       "\n",
       "    .dataframe tbody tr th {\n",
       "        vertical-align: top;\n",
       "    }\n",
       "\n",
       "    .dataframe thead th {\n",
       "        text-align: right;\n",
       "    }\n",
       "</style>\n",
       "<table border=\"1\" class=\"dataframe\">\n",
       "  <thead>\n",
       "    <tr style=\"text-align: right;\">\n",
       "      <th></th>\n",
       "      <th>Suburb</th>\n",
       "      <th>Address</th>\n",
       "      <th>Type</th>\n",
       "      <th>Method</th>\n",
       "      <th>SellerG</th>\n",
       "      <th>Date</th>\n",
       "      <th>CouncilArea</th>\n",
       "      <th>Regionname</th>\n",
       "    </tr>\n",
       "  </thead>\n",
       "  <tbody>\n",
       "    <tr>\n",
       "      <th>count</th>\n",
       "      <td>34857</td>\n",
       "      <td>34857</td>\n",
       "      <td>34857</td>\n",
       "      <td>34857</td>\n",
       "      <td>34857</td>\n",
       "      <td>34857</td>\n",
       "      <td>34854</td>\n",
       "      <td>34854</td>\n",
       "    </tr>\n",
       "    <tr>\n",
       "      <th>unique</th>\n",
       "      <td>351</td>\n",
       "      <td>34009</td>\n",
       "      <td>3</td>\n",
       "      <td>9</td>\n",
       "      <td>388</td>\n",
       "      <td>78</td>\n",
       "      <td>33</td>\n",
       "      <td>8</td>\n",
       "    </tr>\n",
       "    <tr>\n",
       "      <th>top</th>\n",
       "      <td>Reservoir</td>\n",
       "      <td>5 Charles St</td>\n",
       "      <td>h</td>\n",
       "      <td>S</td>\n",
       "      <td>Jellis</td>\n",
       "      <td>28/10/2017</td>\n",
       "      <td>Boroondara City Council</td>\n",
       "      <td>Southern Metropolitan</td>\n",
       "    </tr>\n",
       "    <tr>\n",
       "      <th>freq</th>\n",
       "      <td>844</td>\n",
       "      <td>6</td>\n",
       "      <td>23980</td>\n",
       "      <td>19744</td>\n",
       "      <td>3359</td>\n",
       "      <td>1119</td>\n",
       "      <td>3675</td>\n",
       "      <td>11836</td>\n",
       "    </tr>\n",
       "  </tbody>\n",
       "</table>\n",
       "</div>"
      ],
      "text/plain": [
       "           Suburb       Address   Type Method SellerG        Date  \\\n",
       "count       34857         34857  34857  34857   34857       34857   \n",
       "unique        351         34009      3      9     388          78   \n",
       "top     Reservoir  5 Charles St      h      S  Jellis  28/10/2017   \n",
       "freq          844             6  23980  19744    3359        1119   \n",
       "\n",
       "                    CouncilArea             Regionname  \n",
       "count                     34854                  34854  \n",
       "unique                       33                      8  \n",
       "top     Boroondara City Council  Southern Metropolitan  \n",
       "freq                       3675                  11836  "
      ]
     },
     "execution_count": 7,
     "metadata": {},
     "output_type": "execute_result"
    }
   ],
   "source": [
    "df[cat].describe()"
   ]
  },
  {
   "cell_type": "code",
   "execution_count": 8,
   "metadata": {
    "colab": {
     "base_uri": "https://localhost:8080/",
     "height": 364
    },
    "id": "pBtqiVkYg3zV",
    "outputId": "492664c2-4b29-42c1-dab2-3f5b8a7e7303"
   },
   "outputs": [
    {
     "data": {
      "text/html": [
       "<div>\n",
       "<style scoped>\n",
       "    .dataframe tbody tr th:only-of-type {\n",
       "        vertical-align: middle;\n",
       "    }\n",
       "\n",
       "    .dataframe tbody tr th {\n",
       "        vertical-align: top;\n",
       "    }\n",
       "\n",
       "    .dataframe thead th {\n",
       "        text-align: right;\n",
       "    }\n",
       "</style>\n",
       "<table border=\"1\" class=\"dataframe\">\n",
       "  <thead>\n",
       "    <tr style=\"text-align: right;\">\n",
       "      <th></th>\n",
       "      <th>Rooms</th>\n",
       "      <th>Price</th>\n",
       "      <th>Distance</th>\n",
       "      <th>Postcode</th>\n",
       "      <th>Bedroom2</th>\n",
       "      <th>Bathroom</th>\n",
       "      <th>Car</th>\n",
       "      <th>Landsize</th>\n",
       "      <th>BuildingArea</th>\n",
       "      <th>YearBuilt</th>\n",
       "      <th>Lattitude</th>\n",
       "      <th>Longtitude</th>\n",
       "      <th>Propertycount</th>\n",
       "    </tr>\n",
       "  </thead>\n",
       "  <tbody>\n",
       "    <tr>\n",
       "      <th>count</th>\n",
       "      <td>34857.000000</td>\n",
       "      <td>2.724700e+04</td>\n",
       "      <td>34856.000000</td>\n",
       "      <td>34856.000000</td>\n",
       "      <td>26640.000000</td>\n",
       "      <td>26631.000000</td>\n",
       "      <td>26129.000000</td>\n",
       "      <td>23047.000000</td>\n",
       "      <td>13742.00000</td>\n",
       "      <td>15551.000000</td>\n",
       "      <td>26881.000000</td>\n",
       "      <td>26881.000000</td>\n",
       "      <td>34854.000000</td>\n",
       "    </tr>\n",
       "    <tr>\n",
       "      <th>mean</th>\n",
       "      <td>3.031012</td>\n",
       "      <td>1.050173e+06</td>\n",
       "      <td>11.184929</td>\n",
       "      <td>3116.062859</td>\n",
       "      <td>3.084647</td>\n",
       "      <td>1.624798</td>\n",
       "      <td>1.728845</td>\n",
       "      <td>593.598993</td>\n",
       "      <td>160.25640</td>\n",
       "      <td>1965.289885</td>\n",
       "      <td>-37.810634</td>\n",
       "      <td>145.001851</td>\n",
       "      <td>7572.888306</td>\n",
       "    </tr>\n",
       "    <tr>\n",
       "      <th>std</th>\n",
       "      <td>0.969933</td>\n",
       "      <td>6.414671e+05</td>\n",
       "      <td>6.788892</td>\n",
       "      <td>109.023903</td>\n",
       "      <td>0.980690</td>\n",
       "      <td>0.724212</td>\n",
       "      <td>1.010771</td>\n",
       "      <td>3398.841946</td>\n",
       "      <td>401.26706</td>\n",
       "      <td>37.328178</td>\n",
       "      <td>0.090279</td>\n",
       "      <td>0.120169</td>\n",
       "      <td>4428.090313</td>\n",
       "    </tr>\n",
       "    <tr>\n",
       "      <th>min</th>\n",
       "      <td>1.000000</td>\n",
       "      <td>8.500000e+04</td>\n",
       "      <td>0.000000</td>\n",
       "      <td>3000.000000</td>\n",
       "      <td>0.000000</td>\n",
       "      <td>0.000000</td>\n",
       "      <td>0.000000</td>\n",
       "      <td>0.000000</td>\n",
       "      <td>0.00000</td>\n",
       "      <td>1196.000000</td>\n",
       "      <td>-38.190430</td>\n",
       "      <td>144.423790</td>\n",
       "      <td>83.000000</td>\n",
       "    </tr>\n",
       "    <tr>\n",
       "      <th>25%</th>\n",
       "      <td>2.000000</td>\n",
       "      <td>6.350000e+05</td>\n",
       "      <td>6.400000</td>\n",
       "      <td>3051.000000</td>\n",
       "      <td>2.000000</td>\n",
       "      <td>1.000000</td>\n",
       "      <td>1.000000</td>\n",
       "      <td>224.000000</td>\n",
       "      <td>102.00000</td>\n",
       "      <td>1940.000000</td>\n",
       "      <td>-37.862950</td>\n",
       "      <td>144.933500</td>\n",
       "      <td>4385.000000</td>\n",
       "    </tr>\n",
       "    <tr>\n",
       "      <th>50%</th>\n",
       "      <td>3.000000</td>\n",
       "      <td>8.700000e+05</td>\n",
       "      <td>10.300000</td>\n",
       "      <td>3103.000000</td>\n",
       "      <td>3.000000</td>\n",
       "      <td>2.000000</td>\n",
       "      <td>2.000000</td>\n",
       "      <td>521.000000</td>\n",
       "      <td>136.00000</td>\n",
       "      <td>1970.000000</td>\n",
       "      <td>-37.807600</td>\n",
       "      <td>145.007800</td>\n",
       "      <td>6763.000000</td>\n",
       "    </tr>\n",
       "    <tr>\n",
       "      <th>75%</th>\n",
       "      <td>4.000000</td>\n",
       "      <td>1.295000e+06</td>\n",
       "      <td>14.000000</td>\n",
       "      <td>3156.000000</td>\n",
       "      <td>4.000000</td>\n",
       "      <td>2.000000</td>\n",
       "      <td>2.000000</td>\n",
       "      <td>670.000000</td>\n",
       "      <td>188.00000</td>\n",
       "      <td>2000.000000</td>\n",
       "      <td>-37.754100</td>\n",
       "      <td>145.071900</td>\n",
       "      <td>10412.000000</td>\n",
       "    </tr>\n",
       "    <tr>\n",
       "      <th>max</th>\n",
       "      <td>16.000000</td>\n",
       "      <td>1.120000e+07</td>\n",
       "      <td>48.100000</td>\n",
       "      <td>3978.000000</td>\n",
       "      <td>30.000000</td>\n",
       "      <td>12.000000</td>\n",
       "      <td>26.000000</td>\n",
       "      <td>433014.000000</td>\n",
       "      <td>44515.00000</td>\n",
       "      <td>2106.000000</td>\n",
       "      <td>-37.390200</td>\n",
       "      <td>145.526350</td>\n",
       "      <td>21650.000000</td>\n",
       "    </tr>\n",
       "  </tbody>\n",
       "</table>\n",
       "</div>"
      ],
      "text/plain": [
       "              Rooms         Price      Distance      Postcode      Bedroom2  \\\n",
       "count  34857.000000  2.724700e+04  34856.000000  34856.000000  26640.000000   \n",
       "mean       3.031012  1.050173e+06     11.184929   3116.062859      3.084647   \n",
       "std        0.969933  6.414671e+05      6.788892    109.023903      0.980690   \n",
       "min        1.000000  8.500000e+04      0.000000   3000.000000      0.000000   \n",
       "25%        2.000000  6.350000e+05      6.400000   3051.000000      2.000000   \n",
       "50%        3.000000  8.700000e+05     10.300000   3103.000000      3.000000   \n",
       "75%        4.000000  1.295000e+06     14.000000   3156.000000      4.000000   \n",
       "max       16.000000  1.120000e+07     48.100000   3978.000000     30.000000   \n",
       "\n",
       "           Bathroom           Car       Landsize  BuildingArea     YearBuilt  \\\n",
       "count  26631.000000  26129.000000   23047.000000   13742.00000  15551.000000   \n",
       "mean       1.624798      1.728845     593.598993     160.25640   1965.289885   \n",
       "std        0.724212      1.010771    3398.841946     401.26706     37.328178   \n",
       "min        0.000000      0.000000       0.000000       0.00000   1196.000000   \n",
       "25%        1.000000      1.000000     224.000000     102.00000   1940.000000   \n",
       "50%        2.000000      2.000000     521.000000     136.00000   1970.000000   \n",
       "75%        2.000000      2.000000     670.000000     188.00000   2000.000000   \n",
       "max       12.000000     26.000000  433014.000000   44515.00000   2106.000000   \n",
       "\n",
       "          Lattitude    Longtitude  Propertycount  \n",
       "count  26881.000000  26881.000000   34854.000000  \n",
       "mean     -37.810634    145.001851    7572.888306  \n",
       "std        0.090279      0.120169    4428.090313  \n",
       "min      -38.190430    144.423790      83.000000  \n",
       "25%      -37.862950    144.933500    4385.000000  \n",
       "50%      -37.807600    145.007800    6763.000000  \n",
       "75%      -37.754100    145.071900   10412.000000  \n",
       "max      -37.390200    145.526350   21650.000000  "
      ]
     },
     "execution_count": 8,
     "metadata": {},
     "output_type": "execute_result"
    }
   ],
   "source": [
    "df[num].describe()"
   ]
  },
  {
   "cell_type": "markdown",
   "metadata": {
    "id": "NYFC-e8bcluB"
   },
   "source": [
    "# **VISUALIZATION**"
   ]
  },
  {
   "cell_type": "code",
   "execution_count": 9,
   "metadata": {
    "colab": {
     "base_uri": "https://localhost:8080/",
     "height": 623
    },
    "id": "o_WMTIZJctGP",
    "outputId": "5b248b7b-1059-4392-c7f4-be08750cbc40"
   },
   "outputs": [
    {
     "data": {
      "text/plain": [
       "(0.0, 6000000.0)"
      ]
     },
     "execution_count": 9,
     "metadata": {},
     "output_type": "execute_result"
    },
    {
     "data": {
      "image/png": "[encoded data removed]",
      "text/plain": [
       "<Figure size 720x720 with 1 Axes>"
      ]
     },
     "metadata": {
      "needs_background": "light"
     },
     "output_type": "display_data"
    }
   ],
   "source": [
    "# FIGURE 1\n",
    "plt.figure(figsize=(10,10))\n",
    "img = sns.boxplot(x='Price', y='Method', data=df[\n",
    "                                                       (df['Method'] != 'SN')\n",
    "                                                       &\n",
    "                                                       (df['Method'] != 'SS')\n",
    "                                                       &\n",
    "                                                       (df['Method'] != 'W')\n",
    "                                                       &\n",
    "                                                       (df['Method'] != 'PN')\n",
    "                                                       ]\n",
    "            )\n",
    "sns.despine()\n",
    "# sns.set_context(\"notebook\", font_scale=1.5, rc={\"lines.linewidth\": 2.5})\n",
    "img.set_xlim(0, 6000000)"
   ]
  },
  {
   "cell_type": "code",
   "execution_count": 10,
   "metadata": {
    "colab": {
     "base_uri": "https://localhost:8080/"
    },
    "id": "46P2MLHn_-jw",
    "outputId": "3d87c6bb-7f65-435a-d678-99c19e5f4e2c"
   },
   "outputs": [
    {
     "name": "stdout",
     "output_type": "stream",
     "text": [
      "['PI', 'PN', 'S', 'SA', 'SN', 'SP', 'SS', 'VB', 'W']\n",
      "Method PI , Median Price: 920000.0\n",
      "Method PN , Median Price: nan\n",
      "Method S , Median Price: 881000.0\n",
      "Method SA , Median Price: 850000.0\n",
      "Method SN , Median Price: nan\n",
      "Method SP , Median Price: 751000.0\n",
      "Method SS , Median Price: nan\n",
      "Method VB , Median Price: 970000.0\n",
      "Method W , Median Price: nan\n"
     ]
    }
   ],
   "source": [
    "hold1 = []\n",
    "dv = df[\n",
    "                                                       (df['Method'] != 'SN')\n",
    "                                                       &\n",
    "                                                       (df['Method'] != 'SS')\n",
    "                                                       &\n",
    "                                                       (df['Method'] != 'W')\n",
    "                                                       &\n",
    "                                                       (df['Method'] != 'PN')\n",
    "                                                       ]\n",
    "rg = sorted(df['Method'].dropna().unique())\n",
    "print(rg)\n",
    "for i in rg:\n",
    "  print(\"Method\" , i\n",
    "        , \", Median Price:\" , dv['Price'].loc[dv['Method'] == i].median())\n",
    "  hold1.append(dv['Price'].loc[dv['Method'] == i].median())"
   ]
  },
  {
   "cell_type": "code",
   "execution_count": 11,
   "metadata": {
    "colab": {
     "base_uri": "https://localhost:8080/"
    },
    "id": "jJCd6JrxOi9X",
    "outputId": "651655b6-3b72-4b50-a2ec-3e459522e279"
   },
   "outputs": [
    {
     "data": {
      "text/plain": [
       "Suburb           308\n",
       "Address          308\n",
       "Rooms            308\n",
       "Type             308\n",
       "Price              0\n",
       "Method           308\n",
       "SellerG          308\n",
       "Date             308\n",
       "Distance         308\n",
       "Postcode         308\n",
       "Bedroom2         229\n",
       "Bathroom         229\n",
       "Car              227\n",
       "Landsize         202\n",
       "BuildingArea     136\n",
       "YearBuilt        146\n",
       "CouncilArea      308\n",
       "Lattitude        230\n",
       "Longtitude       230\n",
       "Regionname       308\n",
       "Propertycount    308\n",
       "dtype: int64"
      ]
     },
     "execution_count": 11,
     "metadata": {},
     "output_type": "execute_result"
    }
   ],
   "source": [
    "df[df['Method'] == \"PN\"].count()"
   ]
  },
  {
   "cell_type": "code",
   "execution_count": 12,
   "metadata": {
    "id": "gmHaynkdN1eD"
   },
   "outputs": [],
   "source": [
    "index = df.index[df['Price'].isnull()]\n",
    "dfv = df.drop(index, inplace=False)"
   ]
  },
  {
   "cell_type": "code",
   "execution_count": 13,
   "metadata": {
    "colab": {
     "base_uri": "https://localhost:8080/"
    },
    "id": "1Ad18EYFMZCj",
    "outputId": "e9c68620-df53-4035-83b8-f070c734e419"
   },
   "outputs": [
    {
     "name": "stdout",
     "output_type": "stream",
     "text": [
      "SS :\n",
      "Suburb           0.0\n",
      "Address          0.0\n",
      "Rooms            0.0\n",
      "Type             0.0\n",
      "Price            0.0\n",
      "Method           0.0\n",
      "SellerG          0.0\n",
      "Date             0.0\n",
      "Distance         0.0\n",
      "Postcode         0.0\n",
      "Bedroom2         0.0\n",
      "Bathroom         0.0\n",
      "Car              0.0\n",
      "Landsize         0.0\n",
      "BuildingArea     0.0\n",
      "YearBuilt        0.0\n",
      "CouncilArea      0.0\n",
      "Lattitude        0.0\n",
      "Longtitude       0.0\n",
      "Regionname       0.0\n",
      "Propertycount    0.0\n",
      "dtype: float64\n",
      "\n",
      "S :\n",
      "Suburb               0\n",
      "Address              0\n",
      "Rooms                0\n",
      "Type                 0\n",
      "Price                0\n",
      "Method               0\n",
      "SellerG              0\n",
      "Date                 0\n",
      "Distance             0\n",
      "Postcode             0\n",
      "Bedroom2          3932\n",
      "Bathroom          3937\n",
      "Car               4158\n",
      "Landsize          5795\n",
      "BuildingArea     10774\n",
      "YearBuilt         9860\n",
      "CouncilArea          1\n",
      "Lattitude         3819\n",
      "Longtitude        3819\n",
      "Regionname           1\n",
      "Propertycount        1\n",
      "dtype: int64\n",
      "\n",
      "VB :\n",
      "Suburb              0\n",
      "Address             0\n",
      "Rooms               0\n",
      "Type                0\n",
      "Price               0\n",
      "Method              0\n",
      "SellerG             0\n",
      "Date                0\n",
      "Distance            0\n",
      "Postcode            0\n",
      "Bedroom2          667\n",
      "Bathroom          667\n",
      "Car               716\n",
      "Landsize          974\n",
      "BuildingArea     1657\n",
      "YearBuilt        1488\n",
      "CouncilArea         1\n",
      "Lattitude         640\n",
      "Longtitude        640\n",
      "Regionname          1\n",
      "Propertycount       1\n",
      "dtype: int64\n",
      "\n",
      "SP :\n",
      "Suburb              0\n",
      "Address             0\n",
      "Rooms               0\n",
      "Type                0\n",
      "Price               0\n",
      "Method              0\n",
      "SellerG             0\n",
      "Date                0\n",
      "Distance            1\n",
      "Postcode            1\n",
      "Bedroom2          952\n",
      "Bathroom          953\n",
      "Car               999\n",
      "Landsize         1307\n",
      "BuildingArea     2056\n",
      "YearBuilt        1893\n",
      "CouncilArea         1\n",
      "Lattitude         927\n",
      "Longtitude        927\n",
      "Regionname          1\n",
      "Propertycount       1\n",
      "dtype: int64\n",
      "\n",
      "PI :\n",
      "Suburb              0\n",
      "Address             0\n",
      "Rooms               0\n",
      "Type                0\n",
      "Price               0\n",
      "Method              0\n",
      "SellerG             0\n",
      "Date                0\n",
      "Distance            0\n",
      "Postcode            0\n",
      "Bedroom2          847\n",
      "Bathroom          847\n",
      "Car               906\n",
      "Landsize         1128\n",
      "BuildingArea     1985\n",
      "YearBuilt        1811\n",
      "CouncilArea         0\n",
      "Lattitude         826\n",
      "Longtitude        826\n",
      "Regionname          0\n",
      "Propertycount       0\n",
      "dtype: int64\n",
      "\n",
      "SN :\n",
      "Suburb           0.0\n",
      "Address          0.0\n",
      "Rooms            0.0\n",
      "Type             0.0\n",
      "Price            0.0\n",
      "Method           0.0\n",
      "SellerG          0.0\n",
      "Date             0.0\n",
      "Distance         0.0\n",
      "Postcode         0.0\n",
      "Bedroom2         0.0\n",
      "Bathroom         0.0\n",
      "Car              0.0\n",
      "Landsize         0.0\n",
      "BuildingArea     0.0\n",
      "YearBuilt        0.0\n",
      "CouncilArea      0.0\n",
      "Lattitude        0.0\n",
      "Longtitude       0.0\n",
      "Regionname       0.0\n",
      "Propertycount    0.0\n",
      "dtype: float64\n",
      "\n",
      "W :\n",
      "Suburb           0.0\n",
      "Address          0.0\n",
      "Rooms            0.0\n",
      "Type             0.0\n",
      "Price            0.0\n",
      "Method           0.0\n",
      "SellerG          0.0\n",
      "Date             0.0\n",
      "Distance         0.0\n",
      "Postcode         0.0\n",
      "Bedroom2         0.0\n",
      "Bathroom         0.0\n",
      "Car              0.0\n",
      "Landsize         0.0\n",
      "BuildingArea     0.0\n",
      "YearBuilt        0.0\n",
      "CouncilArea      0.0\n",
      "Lattitude        0.0\n",
      "Longtitude       0.0\n",
      "Regionname       0.0\n",
      "Propertycount    0.0\n",
      "dtype: float64\n",
      "\n",
      "PN :\n",
      "Suburb           0.0\n",
      "Address          0.0\n",
      "Rooms            0.0\n",
      "Type             0.0\n",
      "Price            0.0\n",
      "Method           0.0\n",
      "SellerG          0.0\n",
      "Date             0.0\n",
      "Distance         0.0\n",
      "Postcode         0.0\n",
      "Bedroom2         0.0\n",
      "Bathroom         0.0\n",
      "Car              0.0\n",
      "Landsize         0.0\n",
      "BuildingArea     0.0\n",
      "YearBuilt        0.0\n",
      "CouncilArea      0.0\n",
      "Lattitude        0.0\n",
      "Longtitude       0.0\n",
      "Regionname       0.0\n",
      "Propertycount    0.0\n",
      "dtype: float64\n",
      "\n",
      "SA :\n",
      "Suburb             0\n",
      "Address            0\n",
      "Rooms              0\n",
      "Type               0\n",
      "Price              0\n",
      "Method             0\n",
      "SellerG            0\n",
      "Date               0\n",
      "Distance           0\n",
      "Postcode           0\n",
      "Bedroom2          43\n",
      "Bathroom          43\n",
      "Car               45\n",
      "Landsize          61\n",
      "BuildingArea     119\n",
      "YearBuilt        111\n",
      "CouncilArea        0\n",
      "Lattitude         42\n",
      "Longtitude        42\n",
      "Regionname         0\n",
      "Propertycount      0\n",
      "dtype: int64\n",
      "\n"
     ]
    }
   ],
   "source": [
    "for i in df['Method'].unique():\n",
    "  print(i, \":\")\n",
    "  print(dfv[dfv['Method'] == i].isna().sum())\n",
    "  print()"
   ]
  },
  {
   "cell_type": "code",
   "execution_count": 14,
   "metadata": {
    "colab": {
     "base_uri": "https://localhost:8080/"
    },
    "id": "lroE9sZaO5Ql",
    "outputId": "238ce8db-60d5-4094-f2c7-25007e1d821a"
   },
   "outputs": [
    {
     "name": "stdout",
     "output_type": "stream",
     "text": [
      "PI :\n",
      "Suburb           3255\n",
      "Address          3255\n",
      "Rooms            3255\n",
      "Type             3255\n",
      "Price            3255\n",
      "Method           3255\n",
      "SellerG          3255\n",
      "Date             3255\n",
      "Distance         3255\n",
      "Postcode         3255\n",
      "Bedroom2         2408\n",
      "Bathroom         2408\n",
      "Car              2349\n",
      "Landsize         2127\n",
      "BuildingArea     1270\n",
      "YearBuilt        1444\n",
      "CouncilArea      3255\n",
      "Lattitude        2429\n",
      "Longtitude       2429\n",
      "Regionname       3255\n",
      "Propertycount    3255\n",
      "dtype: int64\n",
      "\n",
      "S :\n",
      "Suburb           17515\n",
      "Address          17515\n",
      "Rooms            17515\n",
      "Type             17515\n",
      "Price            17515\n",
      "Method           17515\n",
      "SellerG          17515\n",
      "Date             17515\n",
      "Distance         17515\n",
      "Postcode         17515\n",
      "Bedroom2         13583\n",
      "Bathroom         13578\n",
      "Car              13357\n",
      "Landsize         11720\n",
      "BuildingArea      6741\n",
      "YearBuilt         7655\n",
      "CouncilArea      17514\n",
      "Lattitude        13696\n",
      "Longtitude       13696\n",
      "Regionname       17514\n",
      "Propertycount    17514\n",
      "dtype: int64\n",
      "\n",
      "SA :\n",
      "Suburb           190\n",
      "Address          190\n",
      "Rooms            190\n",
      "Type             190\n",
      "Price            190\n",
      "Method           190\n",
      "SellerG          190\n",
      "Date             190\n",
      "Distance         190\n",
      "Postcode         190\n",
      "Bedroom2         147\n",
      "Bathroom         147\n",
      "Car              145\n",
      "Landsize         129\n",
      "BuildingArea      71\n",
      "YearBuilt         79\n",
      "CouncilArea      190\n",
      "Lattitude        148\n",
      "Longtitude       148\n",
      "Regionname       190\n",
      "Propertycount    190\n",
      "dtype: int64\n",
      "\n",
      "SP :\n",
      "Suburb           3603\n",
      "Address          3603\n",
      "Rooms            3603\n",
      "Type             3603\n",
      "Price            3603\n",
      "Method           3603\n",
      "SellerG          3603\n",
      "Date             3603\n",
      "Distance         3602\n",
      "Postcode         3602\n",
      "Bedroom2         2651\n",
      "Bathroom         2650\n",
      "Car              2604\n",
      "Landsize         2296\n",
      "BuildingArea     1547\n",
      "YearBuilt        1710\n",
      "CouncilArea      3602\n",
      "Lattitude        2676\n",
      "Longtitude       2676\n",
      "Regionname       3602\n",
      "Propertycount    3602\n",
      "dtype: int64\n",
      "\n",
      "VB :\n",
      "Suburb           2684\n",
      "Address          2684\n",
      "Rooms            2684\n",
      "Type             2684\n",
      "Price            2684\n",
      "Method           2684\n",
      "SellerG          2684\n",
      "Date             2684\n",
      "Distance         2684\n",
      "Postcode         2684\n",
      "Bedroom2         2017\n",
      "Bathroom         2017\n",
      "Car              1968\n",
      "Landsize         1710\n",
      "BuildingArea     1027\n",
      "YearBuilt        1196\n",
      "CouncilArea      2683\n",
      "Lattitude        2044\n",
      "Longtitude       2044\n",
      "Regionname       2683\n",
      "Propertycount    2683\n",
      "dtype: int64\n",
      "\n"
     ]
    }
   ],
   "source": [
    "for i in ['PI', 'S', 'SA', 'SP', 'VB']:\n",
    "  print(i, \":\")\n",
    "  print(dfv[dfv['Method'] == i].count())\n",
    "  print()"
   ]
  },
  {
   "cell_type": "code",
   "execution_count": 15,
   "metadata": {
    "id": "ZDuqh8uYRHf3"
   },
   "outputs": [],
   "source": [
    "dfv = df.copy()"
   ]
  },
  {
   "cell_type": "code",
   "execution_count": 16,
   "metadata": {
    "id": "bcawM-QYwlPS"
   },
   "outputs": [],
   "source": [
    "dfv.loc[dfv.Method == 'PN', \"Method\"] = \"No\"\n",
    "dfv.loc[dfv.Method == 'SN', \"Method\"] = \"No\"\n",
    "dfv.loc[dfv.Method == 'SS', \"Method\"] = \"No\"\n",
    "dfv.loc[dfv.Method == 'W', \"Method\"] = \"No\""
   ]
  },
  {
   "cell_type": "markdown",
   "metadata": {
    "id": "naezrqgPLWqH"
   },
   "source": [
    "**Figure 1**: House bought method and price bought\n",
    "\n",
    "\n",
    "\n",
    "*   By method, house sold via Vendor Bid (VB) and Passed In (PI) have the highest median of price. This make sense since the purpose is to keep biding price higher.\n",
    "*   This happen when the buyers and acutioneer price does not meet - only 5% cases are recorded in the data.\n",
    "\n",
    "***To trully analyze housing sold, then houses sold with this method will be excluded.***\n",
    "\n",
    "Method S, Method SA, Method SP\n"
   ]
  },
  {
   "cell_type": "code",
   "execution_count": 17,
   "metadata": {
    "id": "l6iZST_VXMaL"
   },
   "outputs": [],
   "source": [
    "dfv = dfv[\n",
    "                                                       (dfv['Method'] != 'SN')\n",
    "                                                       &\n",
    "                                                       (dfv['Method'] != 'SS')\n",
    "                                                       &\n",
    "                                                       (dfv['Method'] != 'W')\n",
    "                                                       &\n",
    "                                                       (dfv['Method'] != 'PN')\n",
    "                                                       &\n",
    "                                                       (dfv['Method'] != 'VB')\n",
    "                                                       &\n",
    "                                                       (dfv['Method'] != 'PI')\n",
    "                                                       ]"
   ]
  },
  {
   "cell_type": "code",
   "execution_count": 18,
   "metadata": {
    "colab": {
     "base_uri": "https://localhost:8080/",
     "height": 606
    },
    "id": "6HbFEerX7IKr",
    "outputId": "04ead52d-b912-49b3-a564-ca28769d291e"
   },
   "outputs": [
    {
     "data": {
      "image/png": "[encoded data removed]",
      "text/plain": [
       "<Figure size 720x720 with 1 Axes>"
      ]
     },
     "metadata": {
      "needs_background": "light"
     },
     "output_type": "display_data"
    }
   ],
   "source": [
    "# FIGURE 2\n",
    "plt.figure(figsize=(10,10))\n",
    "sns.boxplot(x='Price', y='Regionname', data=dfv\n",
    "            )\n",
    "sns.despine()"
   ]
  },
  {
   "cell_type": "code",
   "execution_count": 19,
   "metadata": {
    "colab": {
     "base_uri": "https://localhost:8080/"
    },
    "id": "72vfe-fVVZuc",
    "outputId": "c819220f-17e8-425d-9b77-110d035b80a1"
   },
   "outputs": [
    {
     "name": "stdout",
     "output_type": "stream",
     "text": [
      "['Eastern Metropolitan', 'Eastern Victoria', 'Northern Metropolitan', 'Northern Victoria', 'South-Eastern Metropolitan', 'Southern Metropolitan', 'Western Metropolitan', 'Western Victoria']\n",
      "Regionname Eastern Metropolitan , Average Price: 1094303.593180016\n",
      "Regionname Eastern Victoria , Average Price: 709349.8714285714\n",
      "Regionname Northern Metropolitan , Average Price: 861678.7453271028\n",
      "Regionname Northern Victoria , Average Price: 604916.6666666666\n",
      "Regionname South-Eastern Metropolitan , Average Price: 862867.1101398602\n",
      "Regionname Southern Metropolitan , Average Price: 1361200.6581532417\n",
      "Regionname Western Metropolitan , Average Price: 833958.6304669343\n",
      "Regionname Western Victoria , Average Price: 432250.0\n"
     ]
    }
   ],
   "source": [
    "hold1 = []\n",
    "rg = sorted(dfv['Regionname'].dropna().unique())\n",
    "print(rg)\n",
    "for i in rg:\n",
    "  print(\"Regionname\" , i\n",
    "        , \", Average Price:\" , dfv['Price'].loc[dfv['Regionname'] == i].mean())\n",
    "  hold1.append(dfv['Price'].loc[dfv['Regionname'] == i].mean())"
   ]
  },
  {
   "cell_type": "markdown",
   "metadata": {
    "id": "wZen_7O0_ZzB"
   },
   "source": [
    "**Figure 2**: region and price sold\n",
    "\n",
    "*   All the Metropolitan region have high prices compare to regions outside the Metropolitan area - Southern Metropolitan has the highest median price out of all region (1225000), with Eastern Metropolitan coming in second (1001000).\n",
    "*   The high price houses seems reasonable since they are in Metropolitan area.\n",
    "\n"
   ]
  },
  {
   "cell_type": "code",
   "execution_count": 20,
   "metadata": {
    "colab": {
     "base_uri": "https://localhost:8080/",
     "height": 606
    },
    "id": "hn3wBI5cyIFx",
    "outputId": "65e2d51e-8360-4169-8db1-b6d2e9a736c7"
   },
   "outputs": [
    {
     "data": {
      "image/png": "[encoded data removed]",
      "text/plain": [
       "<Figure size 720x720 with 1 Axes>"
      ]
     },
     "metadata": {
      "needs_background": "light"
     },
     "output_type": "display_data"
    }
   ],
   "source": [
    "# FIGURE 3\n",
    "plt.figure(figsize=(10,10))\n",
    "sns.boxplot(x='Distance', y='Regionname', data=dfv\n",
    "            )\n",
    "sns.despine()"
   ]
  },
  {
   "cell_type": "code",
   "execution_count": 21,
   "metadata": {
    "colab": {
     "base_uri": "https://localhost:8080/"
    },
    "id": "MKU_31ZpBOUB",
    "outputId": "be1473d9-b4ee-4eeb-a06e-1a4d53aee2d4"
   },
   "outputs": [
    {
     "name": "stdout",
     "output_type": "stream",
     "text": [
      "['Eastern Metropolitan', 'Eastern Victoria', 'Northern Metropolitan', 'Northern Victoria', 'South-Eastern Metropolitan', 'Southern Metropolitan', 'Western Metropolitan', 'Western Victoria']\n",
      "Region name Eastern Metropolitan , Average Distance: 14.684416767922372\n",
      "Region name Eastern Victoria , Average Distance: 34.553714285714285\n",
      "Region name Northern Metropolitan , Average Distance: 9.349993406303508\n",
      "Region name Northern Victoria , Average Distance: 33.463793103448204\n",
      "Region name South-Eastern Metropolitan , Average Distance: 24.39389978213518\n",
      "Region name Southern Metropolitan , Average Distance: 8.857877374587542\n",
      "Region name Western Metropolitan , Average Distance: 11.127437557816842\n",
      "Region name Western Victoria , Average Distance: 30.851000000000003\n"
     ]
    }
   ],
   "source": [
    "hold1 = []\n",
    "rg = sorted(dfv['Regionname'].dropna().unique())\n",
    "print(rg)\n",
    "for i in rg:\n",
    "  print(\"Region name\" , i\n",
    "        , \", Average Distance:\" , dfv['Distance'].loc[dfv['Regionname'] == i].mean())\n",
    "  hold1.append(dfv['Distance'].loc[dfv['Regionname'] == i].mean())"
   ]
  },
  {
   "cell_type": "code",
   "execution_count": 22,
   "metadata": {
    "colab": {
     "base_uri": "https://localhost:8080/"
    },
    "id": "B_SNFTPLbOao",
    "outputId": "d1e9662c-c59a-4170-de1f-a142137d8811"
   },
   "outputs": [
    {
     "name": "stdout",
     "output_type": "stream",
     "text": [
      "['Eastern Metropolitan', 'Eastern Victoria', 'Northern Metropolitan', 'Northern Victoria', 'South-Eastern Metropolitan', 'Southern Metropolitan', 'Western Metropolitan', 'Western Victoria']\n",
      "Region name Eastern Metropolitan , Total: 3292\n",
      "Region name Eastern Victoria , Total: 175\n",
      "Region name Northern Metropolitan , Total: 7583\n",
      "Region name Northern Victoria , Total: 174\n",
      "Region name South-Eastern Metropolitan , Total: 1377\n",
      "Region name Southern Metropolitan , Total: 8791\n",
      "Region name Western Metropolitan , Total: 5405\n",
      "Region name Western Victoria , Total: 100\n"
     ]
    }
   ],
   "source": [
    "hold1 = []\n",
    "rg = sorted(dfv['Regionname'].dropna().unique())\n",
    "print(rg)\n",
    "for i in rg:\n",
    "  print(\"Region name\" , i\n",
    "        , \", Total:\" , dfv['Distance'].loc[dfv['Regionname'] == i].count())\n",
    "  hold1.append(dfv['Distance'].loc[dfv['Regionname'] == i].count())"
   ]
  },
  {
   "cell_type": "markdown",
   "metadata": {
    "id": "poy1CnXRfOTD"
   },
   "source": [
    "**Figure 3**: region name and distance to CBD (km)\n",
    "\n",
    "*   Figure 3 backed up the previous hypothesis\n",
    "*   In the Metropolitan region, Northern Metropolitan has the least distance from CBD. Having one of the lowest house prices sold in the Metropolitan area plus with the short distance from nearest CBD, buying in this region should be taking into consider.\n",
    "*   Outside the Metropolitan area, NOrthern Veronica has the shortest distance to CBD.\n",
    "\n",
    "\n",
    "\n"
   ]
  },
  {
   "cell_type": "code",
   "execution_count": 23,
   "metadata": {
    "colab": {
     "base_uri": "https://localhost:8080/",
     "height": 655
    },
    "id": "dv3oqYiN0SS2",
    "outputId": "ff8c3e10-0a0c-4f79-acad-abba55753cd7"
   },
   "outputs": [
    {
     "data": {
      "text/plain": [
       "(0.0, 2000.0)"
      ]
     },
     "execution_count": 23,
     "metadata": {},
     "output_type": "execute_result"
    },
    {
     "data": {
      "image/png": "[encoded data removed]",
      "text/plain": [
       "<Figure size 720x720 with 1 Axes>"
      ]
     },
     "metadata": {
      "needs_background": "light"
     },
     "output_type": "display_data"
    }
   ],
   "source": [
    "# FIGURE 4\n",
    "plt.figure(figsize=(10,10))\n",
    "\n",
    "with sns.axes_style(\"whitegrid\"):\n",
    "  sns.set_context(\"poster\")\n",
    "  sns.despine()\n",
    "img = sns.boxplot(x='Landsize', y='Regionname', data=dfv)\n",
    "# sns.despine()\n",
    "img.set_xlim(0, 2000)"
   ]
  },
  {
   "cell_type": "code",
   "execution_count": 24,
   "metadata": {
    "colab": {
     "base_uri": "https://localhost:8080/"
    },
    "id": "d9n-d_uyAmPE",
    "outputId": "756493b2-cedb-4fbc-879b-9623690506bd"
   },
   "outputs": [
    {
     "name": "stdout",
     "output_type": "stream",
     "text": [
      "['Eastern Metropolitan', 'Eastern Victoria', 'Northern Metropolitan', 'Northern Victoria', 'South-Eastern Metropolitan', 'Southern Metropolitan', 'Western Metropolitan', 'Western Victoria']\n",
      "Region name Eastern Metropolitan , Median Landsize: 672.5937215650591\n",
      "Region name Eastern Victoria , Median Landsize: 2070.8899082568805\n",
      "Region name Northern Metropolitan , Median Landsize: 462.9272691240587\n",
      "Region name Northern Victoria , Median Landsize: 2991.9646017699115\n",
      "Region name South-Eastern Metropolitan , Median Landsize: 657.6658566221142\n",
      "Region name Southern Metropolitan , Median Landsize: 509.5429640973286\n",
      "Region name Western Metropolitan , Median Landsize: 538.0837074201214\n",
      "Region name Western Victoria , Median Landsize: 1152.4347826086957\n"
     ]
    }
   ],
   "source": [
    "hold1 = []\n",
    "rg = sorted(dfv['Regionname'].dropna().unique())\n",
    "print(rg)\n",
    "for i in rg:\n",
    "  print(\"Region name\" , i\n",
    "        , \", Median Landsize:\" , dfv['Landsize'].loc[dfv['Regionname'] == i].mean())\n",
    "  hold1.append(dfv['Landsize'].loc[dfv['Regionname'] == i].mean())"
   ]
  },
  {
   "cell_type": "markdown",
   "metadata": {
    "id": "Kh6PdvVej0Y7"
   },
   "source": [
    "**Figure 4**: region name and land size\n",
    "\n",
    "*   Houses outside of the Metropolitan area have larger land size than houses in the Metropolitan area - Eastern Victoria and Northern Victoria are two regions with the largest land size\n",
    "*   Three out of five regions in Metropolitan area have smaller land size compare to the houses outside Metropolitan, while the other two regions have almost the same land size as the houses outside the Metropolitan area\n",
    "*   List item\n",
    "\n",
    "***The hyphothesis that houses in metropolitan area have higher prices although having smaller land size is because the Metropolitan area is a strategic place to live.***\n",
    "\n",
    "\n",
    "\n"
   ]
  },
  {
   "cell_type": "code",
   "execution_count": 25,
   "metadata": {
    "colab": {
     "base_uri": "https://localhost:8080/",
     "height": 655
    },
    "id": "As_GlWUR4iBm",
    "outputId": "4b2a5b2a-22bc-4238-c26a-d976ebfe87af"
   },
   "outputs": [
    {
     "data": {
      "text/plain": [
       "(0.0, 500.0)"
      ]
     },
     "execution_count": 25,
     "metadata": {},
     "output_type": "execute_result"
    },
    {
     "data": {
      "image/png": "[encoded data removed]",
      "text/plain": [
       "<Figure size 720x720 with 1 Axes>"
      ]
     },
     "metadata": {
      "needs_background": "light"
     },
     "output_type": "display_data"
    }
   ],
   "source": [
    "# Figure 5\n",
    "plt.figure(figsize=(10,10))\n",
    "\n",
    "with sns.axes_style(\"whitegrid\"):\n",
    "  sns.set_context(\"poster\")\n",
    "  sns.despine()\n",
    "img = sns.boxplot(x='BuildingArea', y='Regionname', data=dfv\n",
    "            )\n",
    "img.set_xlim(0, 500)"
   ]
  },
  {
   "cell_type": "code",
   "execution_count": 26,
   "metadata": {
    "colab": {
     "base_uri": "https://localhost:8080/"
    },
    "id": "cgKvEWun5N7j",
    "outputId": "24c8fb4e-dfdc-48c3-85ae-c31b16a39829"
   },
   "outputs": [
    {
     "name": "stdout",
     "output_type": "stream",
     "text": [
      "['Eastern Metropolitan', 'Eastern Victoria', 'Northern Metropolitan', 'Northern Victoria', 'South-Eastern Metropolitan', 'Southern Metropolitan', 'Western Metropolitan', 'Western Victoria']\n",
      "Region name Eastern Metropolitan , Average Building Area: 177.79802955665025\n",
      "Region name Eastern Victoria , Average Building Area: 177.74740259740258\n",
      "Region name Northern Metropolitan , Average Building Area: 132.8594047233905\n",
      "Region name Northern Victoria , Average Building Area: 628.2126732673266\n",
      "Region name South-Eastern Metropolitan , Average Building Area: 168.8043567164179\n",
      "Region name Southern Metropolitan , Average Building Area: 164.0298363359708\n",
      "Region name Western Metropolitan , Average Building Area: 152.04083873757025\n",
      "Region name Western Victoria , Average Building Area: 130.34360655737706\n"
     ]
    }
   ],
   "source": [
    "hold2 = []\n",
    "rg = sorted(dfv['Regionname'].dropna().unique())\n",
    "print(rg)\n",
    "for i in rg:\n",
    "  print(\"Region name\" , i\n",
    "        , \", Average Building Area:\" , dfv['BuildingArea'].loc[dfv['Regionname'] == i].mean())\n",
    "  hold2.append(dfv['BuildingArea'].loc[dfv['Regionname'] == i].mean())"
   ]
  },
  {
   "cell_type": "markdown",
   "metadata": {
    "id": "yUnSWUDm0JOA"
   },
   "source": [
    "**Figure 5**: region name and building area\n",
    "*   Highest median value for building area is houses in region Eastern Metropolitan and Eastern Victoria, their average building area are also simillar.\n",
    "*   Northern Victoria has the largest building area, with Northern Metropolitan with the smallest building area\n",
    "\n",
    "\n",
    "\n"
   ]
  },
  {
   "cell_type": "code",
   "execution_count": 27,
   "metadata": {
    "colab": {
     "base_uri": "https://localhost:8080/"
    },
    "id": "O_WPrWC39Bzt",
    "outputId": "94dca20f-88a1-4c0e-cc61-bfa136f10141"
   },
   "outputs": [
    {
     "name": "stdout",
     "output_type": "stream",
     "text": [
      "['Eastern Metropolitan', 'Eastern Victoria', 'Northern Metropolitan', 'Northern Victoria', 'South-Eastern Metropolitan', 'Southern Metropolitan', 'Western Metropolitan', 'Western Victoria']\n",
      "Region name Eastern Metropolitan , Average Rooms: 3.3386998784933173\n",
      "Region name Eastern Victoria , Average Rooms: 3.5485714285714285\n",
      "Region name Northern Metropolitan , Average Rooms: 2.8228933139918237\n",
      "Region name Northern Victoria , Average Rooms: 3.4942528735632186\n",
      "Region name South-Eastern Metropolitan , Average Rooms: 3.242556281771968\n",
      "Region name Southern Metropolitan , Average Rooms: 2.938459788419975\n",
      "Region name Western Metropolitan , Average Rooms: 3.0825161887141537\n",
      "Region name Western Victoria , Average Rooms: 3.31\n"
     ]
    }
   ],
   "source": [
    "hold2 = []\n",
    "rg = sorted(dfv['Regionname'].dropna().unique())\n",
    "print(rg)\n",
    "for i in rg:\n",
    "  print(\"Region name\" , i\n",
    "        , \", Average Rooms:\" , dfv['Rooms'].loc[dfv['Regionname'] == i].mean())\n",
    "  hold2.append(dfv['Rooms'].loc[dfv['Regionname'] == i].mean())"
   ]
  },
  {
   "cell_type": "code",
   "execution_count": 28,
   "metadata": {
    "colab": {
     "base_uri": "https://localhost:8080/",
     "height": 663
    },
    "id": "5x6kydaV1mxe",
    "outputId": "47ae7702-f5d0-44bf-b41a-48b7db138b4e"
   },
   "outputs": [
    {
     "data": {
      "image/png": "[encoded data removed]",
      "text/plain": [
       "<Figure size 1080x720 with 1 Axes>"
      ]
     },
     "metadata": {
      "needs_background": "light"
     },
     "output_type": "display_data"
    }
   ],
   "source": [
    "# FIGURE 1A\n",
    "plt.figure(figsize=(15,10))\n",
    "\n",
    "# with sns.axes_style(\"whitegrid\"):\n",
    "#   sns.set_context(\"poster\")\n",
    "#   sns.despine()\n",
    "img = sns.histplot(dfv.Landsize[(dfv['Regionname'] == 'Southern Metropolitan') & (dfv['Type'] == 'u')], kde=True)\n",
    "img.set_xlim(0, 1000)\n",
    "img.set_title(\"Landsize distribution type 'Unit' in Southern Metropolitan\")\n",
    "plt.grid()\n",
    "plt.show()"
   ]
  },
  {
   "cell_type": "code",
   "execution_count": 30,
   "metadata": {
    "colab": {
     "base_uri": "https://localhost:8080/",
     "height": 638
    },
    "id": "qYHBQN7vGbyO",
    "outputId": "fa7c78d8-c268-42d6-e36b-ca4dec646b8f"
   },
   "outputs": [
    {
     "data": {
      "image/png": "[encoded data removed]",
      "text/plain": [
       "<Figure size 1080x720 with 1 Axes>"
      ]
     },
     "metadata": {
      "needs_background": "light"
     },
     "output_type": "display_data"
    }
   ],
   "source": [
    "plt.figure(figsize=(15,10))\n",
    "img = sns.histplot(dfv[dfv['Regionname'] == 'Southern Metropolitan'], x=\"Price\", hue=\"Type\", element=\"step\")\n",
    "# img.set_xlim(0, 2000)"
   ]
  },
  {
   "cell_type": "code",
   "execution_count": 31,
   "metadata": {
    "colab": {
     "base_uri": "https://localhost:8080/",
     "height": 655
    },
    "id": "DPMPQtxHhLtP",
    "outputId": "6e3a20f3-1270-4cf0-fc59-5bf512ed5162"
   },
   "outputs": [
    {
     "data": {
      "text/plain": [
       "(0.0, 2000.0)"
      ]
     },
     "execution_count": 31,
     "metadata": {},
     "output_type": "execute_result"
    },
    {
     "data": {
      "image/png": "[encoded data removed]",
      "text/plain": [
       "<Figure size 1080x720 with 1 Axes>"
      ]
     },
     "metadata": {
      "needs_background": "light"
     },
     "output_type": "display_data"
    }
   ],
   "source": [
    "plt.figure(figsize=(15,10))\n",
    "img = sns.histplot(dfv[dfv['Regionname'] == 'Southern Metropolitan'], x=\"Landsize\", hue=\"Type\", element=\"step\")\n",
    "img.set_xlim(0, 2000)"
   ]
  },
  {
   "cell_type": "code",
   "execution_count": 32,
   "metadata": {
    "colab": {
     "base_uri": "https://localhost:8080/",
     "height": 655
    },
    "id": "gRJGYNjOFoCi",
    "outputId": "9d410657-73e6-4883-b645-3bf0b96d5d93"
   },
   "outputs": [
    {
     "data": {
      "text/plain": [
       "(0.0, 2000.0)"
      ]
     },
     "execution_count": 32,
     "metadata": {},
     "output_type": "execute_result"
    },
    {
     "data": {
      "image/png": "[encoded data removed]",
      "text/plain": [
       "<Figure size 1080x720 with 1 Axes>"
      ]
     },
     "metadata": {
      "needs_background": "light"
     },
     "output_type": "display_data"
    }
   ],
   "source": [
    "plt.figure(figsize=(15,10))\n",
    "img = sns.histplot(dfv[dfv['Regionname'] == 'Southern Metropolitan'], x=\"BuildingArea\", hue=\"Type\", element=\"step\")\n",
    "img.set_xlim(0, 2000)"
   ]
  },
  {
   "cell_type": "code",
   "execution_count": 33,
   "metadata": {
    "colab": {
     "base_uri": "https://localhost:8080/",
     "height": 638
    },
    "id": "Y14-OkSJGnZA",
    "outputId": "00d32aff-dade-4fa3-d554-fec5131cae91"
   },
   "outputs": [
    {
     "data": {
      "image/png": "[encoded data removed]",
      "text/plain": [
       "<Figure size 1080x720 with 1 Axes>"
      ]
     },
     "metadata": {
      "needs_background": "light"
     },
     "output_type": "display_data"
    }
   ],
   "source": [
    "plt.figure(figsize=(15,10))\n",
    "img = sns.histplot(dfv[dfv['Regionname'] == 'Northern Victoria'], x=\"Price\", hue=\"Type\", element=\"step\")\n",
    "# img.set_xlim(0, 3000)"
   ]
  },
  {
   "cell_type": "code",
   "execution_count": 34,
   "metadata": {
    "colab": {
     "base_uri": "https://localhost:8080/",
     "height": 638
    },
    "id": "H48FFiSlEfaZ",
    "outputId": "55d70ea1-d9f9-4daf-af78-56c2459b57d6"
   },
   "outputs": [
    {
     "data": {
      "image/png": "[encoded data removed]",
      "text/plain": [
       "<Figure size 1080x720 with 1 Axes>"
      ]
     },
     "metadata": {
      "needs_background": "light"
     },
     "output_type": "display_data"
    }
   ],
   "source": [
    "plt.figure(figsize=(15,10))\n",
    "img = sns.histplot(dfv[dfv['Regionname'] == 'Northern Victoria'], x=\"Landsize\", hue=\"Type\", element=\"step\")\n",
    "# img.set_xlim(0, 3000)"
   ]
  },
  {
   "cell_type": "code",
   "execution_count": 35,
   "metadata": {
    "colab": {
     "base_uri": "https://localhost:8080/",
     "height": 638
    },
    "id": "DVSmuGs0FkqY",
    "outputId": "f87f4175-da09-484d-eb18-efc4187d50bf"
   },
   "outputs": [
    {
     "data": {
      "image/png": "[encoded data removed]",
      "text/plain": [
       "<Figure size 1080x720 with 1 Axes>"
      ]
     },
     "metadata": {
      "needs_background": "light"
     },
     "output_type": "display_data"
    }
   ],
   "source": [
    "plt.figure(figsize=(15,10))\n",
    "img = sns.histplot(dfv[dfv['Regionname'] == 'Northern Victoria'], x=\"BuildingArea\", hue=\"Type\", element=\"step\")\n",
    "# img.set_xlim(6000, 7000)"
   ]
  },
  {
   "cell_type": "markdown",
   "metadata": {
    "id": "XyWluBRL6CR7"
   },
   "source": [
    "1. House prices by Method and Type looks comparable from the distribution box plot. But for detail, Type \"unit\" seems to have lower price than \"house\" and \"town-house\" across Methods.\n",
    "2. Region Souther Metropolitan has the highest house prices out all regions (might want to buy house other than in Southern Metropolitan)."
   ]
  },
  {
   "cell_type": "code",
   "execution_count": 36,
   "metadata": {
    "colab": {
     "base_uri": "https://localhost:8080/"
    },
    "id": "twhSqMDXtiig",
    "outputId": "1665667b-93d7-4f68-df13-db8377fe513c"
   },
   "outputs": [
    {
     "name": "stdout",
     "output_type": "stream",
     "text": [
      "['Eastern Metropolitan', 'Eastern Victoria', 'Northern Metropolitan', 'Northern Victoria', 'South-Eastern Metropolitan', 'Southern Metropolitan', 'Western Metropolitan', 'Western Victoria']\n",
      "Region name Eastern Metropolitan , Average Building Area: 109.4909090909091\n",
      "Region name Eastern Victoria , Average Building Area: 102.0\n",
      "Region name Northern Metropolitan , Average Building Area: 76.44907975460124\n",
      "Region name Northern Victoria , Average Building Area: 120.0\n",
      "Region name South-Eastern Metropolitan , Average Building Area: 93.38076923076923\n",
      "Region name Southern Metropolitan , Average Building Area: 84.62382051282052\n",
      "Region name Western Metropolitan , Average Building Area: 83.63836909871243\n",
      "Region name Western Victoria , Average Building Area: nan\n"
     ]
    }
   ],
   "source": [
    "hold2 = []\n",
    "rg = sorted(dfv['Regionname'].dropna().unique())\n",
    "print(rg)\n",
    "for i in rg:\n",
    "  print(\"Region name\" , i\n",
    "        , \", Average Building Area:\" , dfv['BuildingArea'].loc[\n",
    "          (dfv['Regionname'] == i) & (dfv['Type'] == 'u')].mean())\n",
    "  hold2.append(dfv['BuildingArea'].loc[dfv['Regionname'] == i].mean())"
   ]
  },
  {
   "cell_type": "code",
   "execution_count": 37,
   "metadata": {
    "colab": {
     "base_uri": "https://localhost:8080/"
    },
    "id": "stfZrIn8uBOf",
    "outputId": "6c89e9dd-b739-498c-a160-5dc648ab5cd9"
   },
   "outputs": [
    {
     "name": "stdout",
     "output_type": "stream",
     "text": [
      "['Eastern Metropolitan', 'Eastern Victoria', 'Northern Metropolitan', 'Northern Victoria', 'South-Eastern Metropolitan', 'Southern Metropolitan', 'Western Metropolitan', 'Western Victoria']\n",
      "Region name Eastern Metropolitan , Average Land size: 323.6256983240223\n",
      "Region name Eastern Victoria , Average Land size: 295.3333333333333\n",
      "Region name Northern Metropolitan , Average Land size: 450.53351206434314\n",
      "Region name Northern Victoria , Average Land size: 315.0\n",
      "Region name South-Eastern Metropolitan , Average Land size: 325.32608695652175\n",
      "Region name Southern Metropolitan , Average Land size: 454.3136582017845\n",
      "Region name Western Metropolitan , Average Land size: 647.0322580645161\n",
      "Region name Western Victoria , Average Land size: nan\n"
     ]
    }
   ],
   "source": [
    "hold2 = []\n",
    "rg = sorted(dfv['Regionname'].dropna().unique())\n",
    "print(rg)\n",
    "for i in rg:\n",
    "  print(\"Region name\" , i\n",
    "        , \", Average Land size:\" , dfv['Landsize'].loc[\n",
    "          (dfv['Regionname'] == i) & (dfv['Type'] == 'u')].mean())\n",
    "  hold2.append(dfv['Landsize'].loc[dfv['Regionname'] == i].mean())"
   ]
  },
  {
   "cell_type": "code",
   "execution_count": 38,
   "metadata": {
    "colab": {
     "base_uri": "https://localhost:8080/"
    },
    "id": "Cz_5av88uNHK",
    "outputId": "0daad31b-d476-43d2-c45a-e95caed557e4"
   },
   "outputs": [
    {
     "name": "stdout",
     "output_type": "stream",
     "text": [
      "['Eastern Metropolitan', 'Eastern Victoria', 'Northern Metropolitan', 'Northern Victoria', 'South-Eastern Metropolitan', 'Southern Metropolitan', 'Western Metropolitan', 'Western Victoria']\n",
      "Region name Eastern Metropolitan , Average Price: 713564.2507122507\n",
      "Region name Eastern Victoria , Average Price: 477200.0\n",
      "Region name Northern Metropolitan , Average Price: 578222.2229885057\n",
      "Region name Northern Victoria , Average Price: 614500.0\n",
      "Region name South-Eastern Metropolitan , Average Price: 571411.5853658536\n",
      "Region name Southern Metropolitan , Average Price: 706771.7449470644\n",
      "Region name Western Metropolitan , Average Price: 517209.81603773584\n",
      "Region name Western Victoria , Average Price: 285000.0\n"
     ]
    }
   ],
   "source": [
    "hold2 = []\n",
    "rg = sorted(dfv['Regionname'].dropna().unique())\n",
    "print(rg)\n",
    "for i in rg:\n",
    "  print(\"Region name\" , i\n",
    "        , \", Average Price:\" , dfv['Price'].loc[\n",
    "          (dfv['Regionname'] == i) & (dfv['Type'] == 'u')].mean())\n",
    "  hold2.append(dfv['Price'].loc[dfv['Regionname'] == i].mean())"
   ]
  },
  {
   "cell_type": "code",
   "execution_count": 40,
   "metadata": {},
   "outputs": [
    {
     "name": "stdout",
     "output_type": "stream",
     "text": [
      "['Eastern Metropolitan', 'Eastern Victoria', 'Northern Metropolitan', 'Northern Victoria', 'South-Eastern Metropolitan', 'Southern Metropolitan', 'Western Metropolitan', 'Western Victoria']\n",
      "Region name Eastern Metropolitan , Count data points: 351\n",
      "Region name Eastern Victoria , Count data points: 5\n",
      "Region name Northern Metropolitan , Count data points: 1305\n",
      "Region name Northern Victoria , Count data points: 2\n",
      "Region name South-Eastern Metropolitan , Count data points: 164\n",
      "Region name Southern Metropolitan , Count data points: 2078\n",
      "Region name Western Metropolitan , Count data points: 636\n",
      "Region name Western Victoria , Count data points: 2\n"
     ]
    }
   ],
   "source": [
    "hold2 = []\n",
    "rg = sorted(dfv['Regionname'].dropna().unique())\n",
    "print(rg)\n",
    "for i in rg:\n",
    "  print(\"Region name\" , i\n",
    "        , \", Count data points:\" , dfv['Price'].loc[\n",
    "          (dfv['Regionname'] == i) & (dfv['Type'] == 'u')].count())\n",
    "  hold2.append(dfv.loc[(dfv['Regionname'] == i) & (dfv['Type'] == 'u')].count())"
   ]
  },
  {
   "cell_type": "code",
   "execution_count": 41,
   "metadata": {
    "colab": {
     "base_uri": "https://localhost:8080/",
     "height": 638
    },
    "id": "bZdFXijw8QGF",
    "outputId": "445cff10-7e78-4809-ba48-2e6f056e9313"
   },
   "outputs": [
    {
     "data": {
      "image/png": "[encoded data removed]",
      "text/plain": [
       "<Figure size 1080x720 with 1 Axes>"
      ]
     },
     "metadata": {
      "needs_background": "light"
     },
     "output_type": "display_data"
    }
   ],
   "source": [
    "plt.figure(figsize=(15,10))\n",
    "img = sns.histplot(dfv[dfv['Type'] == 'u'], x=\"Price\")\n",
    "# plt.grid()\n",
    "# img.tick_params(rotation=45)\n",
    "# img.set_xlim(0, 3000)"
   ]
  },
  {
   "cell_type": "code",
   "execution_count": 43,
   "metadata": {
    "colab": {
     "base_uri": "https://localhost:8080/"
    },
    "id": "ifmMe9BHxqiR",
    "outputId": "620cae8c-b7f9-4ec5-f85e-c3d4c39a6ac6"
   },
   "outputs": [
    {
     "name": "stdout",
     "output_type": "stream",
     "text": [
      "['Eastern Metropolitan', 'Eastern Victoria', 'Northern Metropolitan', 'Northern Victoria', 'South-Eastern Metropolitan', 'Southern Metropolitan', 'Western Metropolitan', 'Western Victoria']\n",
      "Region name Eastern Metropolitan , Average Distance to CBD: 13.757471264367783\n",
      "Region name Eastern Victoria , Average Distance to CBD: 39.44\n",
      "Region name Northern Metropolitan , Average Distance to CBD: 6.237690776376901\n",
      "Region name Northern Victoria , Average Distance to CBD: 23.85\n",
      "Region name South-Eastern Metropolitan , Average Distance to CBD: 23.756770833333302\n",
      "Region name Southern Metropolitan , Average Distance to CBD: 7.457278601292331\n",
      "Region name Western Metropolitan , Average Distance to CBD: 9.079574468085092\n",
      "Region name Western Victoria , Average Distance to CBD: 29.8\n"
     ]
    }
   ],
   "source": [
    "hold2 = []\n",
    "rg = sorted(dfv['Regionname'].dropna().unique())\n",
    "print(rg)\n",
    "for i in rg:\n",
    "  print(\"Region name\" , i\n",
    "        , \", Average Distance to CBD:\" , dfv['Distance'].loc[\n",
    "          (dfv['Regionname'] == i) & (dfv['Type'] == 'u')].mean())\n",
    "  hold2.append(dfv['Distance'].loc[dfv['Regionname'] == i].mean())"
   ]
  },
  {
   "cell_type": "code",
   "execution_count": 44,
   "metadata": {
    "colab": {
     "base_uri": "https://localhost:8080/",
     "height": 638
    },
    "id": "addzhJLC0g9u",
    "outputId": "382c45ca-0e29-48b3-ceef-0a70c20246c8"
   },
   "outputs": [
    {
     "data": {
      "image/png": "[encoded data removed]",
      "text/plain": [
       "<Figure size 1080x720 with 1 Axes>"
      ]
     },
     "metadata": {
      "needs_background": "light"
     },
     "output_type": "display_data"
    }
   ],
   "source": [
    "plt.figure(figsize=(15,10))\n",
    "img = sns.histplot(dfv[dfv['Type'] == 'u'], x=\"Rooms\", element=\"step\")\n",
    "# img.set_xlim(6000, 7000)"
   ]
  },
  {
   "cell_type": "code",
   "execution_count": 46,
   "metadata": {
    "colab": {
     "base_uri": "https://localhost:8080/",
     "height": 638
    },
    "id": "VPBK5EOb0wHR",
    "outputId": "75373ca0-b8d0-43c6-a977-0a2410baf5d0"
   },
   "outputs": [
    {
     "data": {
      "image/png": "[encoded data removed]",
      "text/plain": [
       "<Figure size 1080x720 with 1 Axes>"
      ]
     },
     "metadata": {
      "needs_background": "light"
     },
     "output_type": "display_data"
    }
   ],
   "source": [
    "plt.figure(figsize=(15,10))\n",
    "img = sns.histplot(dfv[dfv['Type'] == 'u'], x=\"Bathroom\", element=\"step\")\n",
    "# img.set_xlim(6000, 7000)"
   ]
  },
  {
   "cell_type": "code",
   "execution_count": 47,
   "metadata": {
    "colab": {
     "base_uri": "https://localhost:8080/",
     "height": 638
    },
    "id": "DO1T6-eD01bG",
    "outputId": "fb3d05e3-8472-4f0e-c858-4ad573f4a882"
   },
   "outputs": [
    {
     "data": {
      "image/png": "[encoded data removed]",
      "text/plain": [
       "<Figure size 1080x720 with 1 Axes>"
      ]
     },
     "metadata": {
      "needs_background": "light"
     },
     "output_type": "display_data"
    }
   ],
   "source": [
    "plt.figure(figsize=(15,10))\n",
    "img = sns.histplot(dfv[dfv['Type'] == 'u'], x=\"Rooms\", hue='Regionname', element=\"step\")\n",
    "# img.set_xlim(6000, 7000)"
   ]
  },
  {
   "cell_type": "code",
   "execution_count": 50,
   "metadata": {
    "colab": {
     "base_uri": "https://localhost:8080/",
     "height": 638
    },
    "id": "RhvJUyYX2KWv",
    "outputId": "0eb13d8b-c3a1-4630-8a38-ec436d390bf2"
   },
   "outputs": [
    {
     "data": {
      "image/png": "[encoded data removed]",
      "text/plain": [
       "<Figure size 1080x720 with 1 Axes>"
      ]
     },
     "metadata": {
      "needs_background": "light"
     },
     "output_type": "display_data"
    }
   ],
   "source": [
    "plt.figure(figsize=(15,10))\n",
    "img = sns.histplot(dfv[dfv['Type'] == 'u'], x=\"Bathroom\", hue='Regionname', element=\"step\")\n",
    "# img.set_xlim(6000, 7000)"
   ]
  },
  {
   "cell_type": "code",
   "execution_count": 51,
   "metadata": {
    "colab": {
     "base_uri": "https://localhost:8080/"
    },
    "id": "A2ylcD_t0IEh",
    "outputId": "2af3064c-6246-49a2-d0d8-34116f4b1fdc"
   },
   "outputs": [
    {
     "name": "stdout",
     "output_type": "stream",
     "text": [
      "['Eastern Metropolitan', 'Eastern Victoria', 'Northern Metropolitan', 'Northern Victoria', 'South-Eastern Metropolitan', 'Southern Metropolitan', 'Western Metropolitan', 'Western Victoria']\n",
      "Region name Eastern Metropolitan , Average Rooms: 2.3977011494252873\n",
      "Region name Eastern Victoria , Average Rooms: 2.6\n",
      "Region name Northern Metropolitan , Average Rooms: 1.9409422694094227\n",
      "Region name Northern Victoria , Average Rooms: 2.5\n",
      "Region name South-Eastern Metropolitan , Average Rooms: 2.3020833333333335\n",
      "Region name Southern Metropolitan , Average Rooms: 1.9771949828962372\n",
      "Region name Western Metropolitan , Average Rooms: 2.1390070921985815\n",
      "Region name Western Victoria , Average Rooms: 2.0\n"
     ]
    }
   ],
   "source": [
    "hold2 = []\n",
    "rg = sorted(dfv['Regionname'].dropna().unique())\n",
    "print(rg)\n",
    "for i in rg:\n",
    "  print(\"Region name\" , i\n",
    "        , \", Average Rooms:\" , dfv['Rooms'].loc[\n",
    "          (dfv['Regionname'] == i) & (dfv['Type'] == 'u')].mean())\n",
    "  hold2.append(dfv['Rooms'].loc[dfv['Regionname'] == i].mean())"
   ]
  },
  {
   "cell_type": "markdown",
   "metadata": {
    "id": "9pPyBttCwKSD"
   },
   "source": [
    "#here"
   ]
  },
  {
   "cell_type": "markdown",
   "metadata": {
    "id": "roUaFLe9H80F"
   },
   "source": [
    "# DATA PREPROCESSING/SCRUBBING/CLEANING"
   ]
  },
  {
   "cell_type": "markdown",
   "metadata": {
    "id": "oNbJXEkWKspd"
   },
   "source": [
    "## Delete unrelevant features prior to modelling"
   ]
  },
  {
   "cell_type": "code",
   "execution_count": null,
   "metadata": {
    "id": "I8S_FQGLCYqW"
   },
   "outputs": [],
   "source": [
    "df2 = df.copy()\n",
    "del df2['Address']\n",
    "del df2['Date']\n",
    "del df2['SellerG']\n",
    "del df2['Method']\n",
    "del df2['Postcode']\n",
    "del df2['Regionname']\n",
    "del df2['Propertycount']\n",
    "del df2['Lattitude']\n",
    "del df2['Longtitude']"
   ]
  },
  {
   "cell_type": "code",
   "execution_count": null,
   "metadata": {
    "colab": {
     "base_uri": "https://localhost:8080/",
     "height": 206
    },
    "id": "4fciv1LkCbQl",
    "outputId": "61ae6c15-6add-430b-ee91-b9ea1ea82305"
   },
   "outputs": [
    {
     "data": {
      "text/html": [
       "\n",
       "  <div id=\"df-98b3c89c-6010-4aec-9d48-b5440b8c5729\">\n",
       "    <div class=\"colab-df-container\">\n",
       "      <div>\n",
       "<style scoped>\n",
       "    .dataframe tbody tr th:only-of-type {\n",
       "        vertical-align: middle;\n",
       "    }\n",
       "\n",
       "    .dataframe tbody tr th {\n",
       "        vertical-align: top;\n",
       "    }\n",
       "\n",
       "    .dataframe thead th {\n",
       "        text-align: right;\n",
       "    }\n",
       "</style>\n",
       "<table border=\"1\" class=\"dataframe\">\n",
       "  <thead>\n",
       "    <tr style=\"text-align: right;\">\n",
       "      <th></th>\n",
       "      <th>Suburb</th>\n",
       "      <th>Rooms</th>\n",
       "      <th>Type</th>\n",
       "      <th>Price</th>\n",
       "      <th>Distance</th>\n",
       "      <th>Bedroom2</th>\n",
       "      <th>Bathroom</th>\n",
       "      <th>Car</th>\n",
       "      <th>Landsize</th>\n",
       "      <th>BuildingArea</th>\n",
       "      <th>YearBuilt</th>\n",
       "      <th>CouncilArea</th>\n",
       "    </tr>\n",
       "  </thead>\n",
       "  <tbody>\n",
       "    <tr>\n",
       "      <th>0</th>\n",
       "      <td>Abbotsford</td>\n",
       "      <td>2</td>\n",
       "      <td>h</td>\n",
       "      <td>NaN</td>\n",
       "      <td>2.5</td>\n",
       "      <td>2.0</td>\n",
       "      <td>1.0</td>\n",
       "      <td>1.0</td>\n",
       "      <td>126.0</td>\n",
       "      <td>NaN</td>\n",
       "      <td>NaN</td>\n",
       "      <td>Yarra City Council</td>\n",
       "    </tr>\n",
       "    <tr>\n",
       "      <th>1</th>\n",
       "      <td>Abbotsford</td>\n",
       "      <td>2</td>\n",
       "      <td>h</td>\n",
       "      <td>1480000.0</td>\n",
       "      <td>2.5</td>\n",
       "      <td>2.0</td>\n",
       "      <td>1.0</td>\n",
       "      <td>1.0</td>\n",
       "      <td>202.0</td>\n",
       "      <td>NaN</td>\n",
       "      <td>NaN</td>\n",
       "      <td>Yarra City Council</td>\n",
       "    </tr>\n",
       "    <tr>\n",
       "      <th>2</th>\n",
       "      <td>Abbotsford</td>\n",
       "      <td>2</td>\n",
       "      <td>h</td>\n",
       "      <td>1035000.0</td>\n",
       "      <td>2.5</td>\n",
       "      <td>2.0</td>\n",
       "      <td>1.0</td>\n",
       "      <td>0.0</td>\n",
       "      <td>156.0</td>\n",
       "      <td>79.0</td>\n",
       "      <td>1900.0</td>\n",
       "      <td>Yarra City Council</td>\n",
       "    </tr>\n",
       "    <tr>\n",
       "      <th>3</th>\n",
       "      <td>Abbotsford</td>\n",
       "      <td>3</td>\n",
       "      <td>u</td>\n",
       "      <td>NaN</td>\n",
       "      <td>2.5</td>\n",
       "      <td>3.0</td>\n",
       "      <td>2.0</td>\n",
       "      <td>1.0</td>\n",
       "      <td>0.0</td>\n",
       "      <td>NaN</td>\n",
       "      <td>NaN</td>\n",
       "      <td>Yarra City Council</td>\n",
       "    </tr>\n",
       "    <tr>\n",
       "      <th>4</th>\n",
       "      <td>Abbotsford</td>\n",
       "      <td>3</td>\n",
       "      <td>h</td>\n",
       "      <td>1465000.0</td>\n",
       "      <td>2.5</td>\n",
       "      <td>3.0</td>\n",
       "      <td>2.0</td>\n",
       "      <td>0.0</td>\n",
       "      <td>134.0</td>\n",
       "      <td>150.0</td>\n",
       "      <td>1900.0</td>\n",
       "      <td>Yarra City Council</td>\n",
       "    </tr>\n",
       "  </tbody>\n",
       "</table>\n",
       "</div>\n",
       "      <button class=\"colab-df-convert\" onclick=\"convertToInteractive('df-98b3c89c-6010-4aec-9d48-b5440b8c5729')\"\n",
       "              title=\"Convert this dataframe to an interactive table.\"\n",
       "              style=\"display:none;\">\n",
       "        \n",
       "  <svg xmlns=\"http://www.w3.org/2000/svg\" height=\"24px\"viewBox=\"0 0 24 24\"\n",
       "       width=\"24px\">\n",
       "    <path d=\"M0 0h24v24H0V0z\" fill=\"none\"/>\n",
       "    <path d=\"M18.56 5.44l.94 2.06.94-2.06 2.06-.94-2.06-.94-.94-2.06-.94 2.06-2.06.94zm-11 1L8.5 8.5l.94-2.06 2.06-.94-2.06-.94L8.5 2.5l-.94 2.06-2.06.94zm10 10l.94 2.06.94-2.06 2.06-.94-2.06-.94-.94-2.06-.94 2.06-2.06.94z\"/><path d=\"M17.41 7.96l-1.37-1.37c-.4-.4-.92-.59-1.43-.59-.52 0-1.04.2-1.43.59L10.3 9.45l-7.72 7.72c-.78.78-.78 2.05 0 2.83L4 21.41c.39.39.9.59 1.41.59.51 0 1.02-.2 1.41-.59l7.78-7.78 2.81-2.81c.8-.78.8-2.07 0-2.86zM5.41 20L4 18.59l7.72-7.72 1.47 1.35L5.41 20z\"/>\n",
       "  </svg>\n",
       "      </button>\n",
       "      \n",
       "  <style>\n",
       "    .colab-df-container {\n",
       "      display:flex;\n",
       "      flex-wrap:wrap;\n",
       "      gap: 12px;\n",
       "    }\n",
       "\n",
       "    .colab-df-convert {\n",
       "      background-color: #E8F0FE;\n",
       "      border: none;\n",
       "      border-radius: 50%;\n",
       "      cursor: pointer;\n",
       "      display: none;\n",
       "      fill: #1967D2;\n",
       "      height: 32px;\n",
       "      padding: 0 0 0 0;\n",
       "      width: 32px;\n",
       "    }\n",
       "\n",
       "    .colab-df-convert:hover {\n",
       "      background-color: #E2EBFA;\n",
       "      box-shadow: 0px 1px 2px rgba(60, 64, 67, 0.3), 0px 1px 3px 1px rgba(60, 64, 67, 0.15);\n",
       "      fill: #174EA6;\n",
       "    }\n",
       "\n",
       "    [theme=dark] .colab-df-convert {\n",
       "      background-color: #3B4455;\n",
       "      fill: #D2E3FC;\n",
       "    }\n",
       "\n",
       "    [theme=dark] .colab-df-convert:hover {\n",
       "      background-color: #434B5C;\n",
       "      box-shadow: 0px 1px 3px 1px rgba(0, 0, 0, 0.15);\n",
       "      filter: drop-shadow(0px 1px 2px rgba(0, 0, 0, 0.3));\n",
       "      fill: #FFFFFF;\n",
       "    }\n",
       "  </style>\n",
       "\n",
       "      <script>\n",
       "        const buttonEl =\n",
       "          document.querySelector('#df-98b3c89c-6010-4aec-9d48-b5440b8c5729 button.colab-df-convert');\n",
       "        buttonEl.style.display =\n",
       "          google.colab.kernel.accessAllowed ? 'block' : 'none';\n",
       "\n",
       "        async function convertToInteractive(key) {\n",
       "          const element = document.querySelector('#df-98b3c89c-6010-4aec-9d48-b5440b8c5729');\n",
       "          const dataTable =\n",
       "            await google.colab.kernel.invokeFunction('convertToInteractive',\n",
       "                                                     [key], {});\n",
       "          if (!dataTable) return;\n",
       "\n",
       "          const docLinkHtml = 'Like what you see? Visit the ' +\n",
       "            '<a target=\"_blank\" href=https://colab.research.google.com/notebooks/data_table.ipynb>data table notebook</a>'\n",
       "            + ' to learn more about interactive tables.';\n",
       "          element.innerHTML = '';\n",
       "          dataTable['output_type'] = 'display_data';\n",
       "          await google.colab.output.renderOutput(dataTable, element);\n",
       "          const docLink = document.createElement('div');\n",
       "          docLink.innerHTML = docLinkHtml;\n",
       "          element.appendChild(docLink);\n",
       "        }\n",
       "      </script>\n",
       "    </div>\n",
       "  </div>\n",
       "  "
      ],
      "text/plain": [
       "       Suburb  Rooms Type      Price  Distance  Bedroom2  Bathroom  Car  \\\n",
       "0  Abbotsford      2    h        NaN       2.5       2.0       1.0  1.0   \n",
       "1  Abbotsford      2    h  1480000.0       2.5       2.0       1.0  1.0   \n",
       "2  Abbotsford      2    h  1035000.0       2.5       2.0       1.0  0.0   \n",
       "3  Abbotsford      3    u        NaN       2.5       3.0       2.0  1.0   \n",
       "4  Abbotsford      3    h  1465000.0       2.5       3.0       2.0  0.0   \n",
       "\n",
       "   Landsize  BuildingArea  YearBuilt         CouncilArea  \n",
       "0     126.0           NaN        NaN  Yarra City Council  \n",
       "1     202.0           NaN        NaN  Yarra City Council  \n",
       "2     156.0          79.0     1900.0  Yarra City Council  \n",
       "3       0.0           NaN        NaN  Yarra City Council  \n",
       "4     134.0         150.0     1900.0  Yarra City Council  "
      ]
     },
     "execution_count": 195,
     "metadata": {},
     "output_type": "execute_result"
    }
   ],
   "source": [
    "df2.head()"
   ]
  },
  {
   "cell_type": "markdown",
   "metadata": {
    "id": "NWAbTkxBKzQr"
   },
   "source": [
    "## Handling missing values"
   ]
  },
  {
   "cell_type": "code",
   "execution_count": null,
   "metadata": {
    "colab": {
     "base_uri": "https://localhost:8080/"
    },
    "id": "vo6l-7Q3DiVE",
    "outputId": "3dd242e2-2536-4507-933f-7fba8846f067"
   },
   "outputs": [
    {
     "data": {
      "text/plain": [
       "Suburb              0\n",
       "Rooms               0\n",
       "Type                0\n",
       "Price            7610\n",
       "Distance            1\n",
       "Bedroom2         8217\n",
       "Bathroom         8226\n",
       "Car              8728\n",
       "Landsize        11810\n",
       "BuildingArea    21115\n",
       "YearBuilt       19306\n",
       "CouncilArea         3\n",
       "dtype: int64"
      ]
     },
     "execution_count": 196,
     "metadata": {},
     "output_type": "execute_result"
    }
   ],
   "source": [
    "# Check total rows with missing values in columns\n",
    "df2.isna().sum()"
   ]
  },
  {
   "cell_type": "code",
   "execution_count": null,
   "metadata": {
    "colab": {
     "base_uri": "https://localhost:8080/"
    },
    "id": "me_SSG4qKnRa",
    "outputId": "3ddfd38f-ec66-4dd5-be83-a49a9f2bae00"
   },
   "outputs": [
    {
     "name": "stdout",
     "output_type": "stream",
     "text": [
      "column:     Suburb\t percent of NaN value: 0.00%\n",
      "column:      Rooms\t percent of NaN value: 0.00%\n",
      "column:       Type\t percent of NaN value: 0.00%\n",
      "column:      Price\t percent of NaN value: 21.83%\n",
      "column:   Distance\t percent of NaN value: 0.00%\n",
      "column:   Bedroom2\t percent of NaN value: 23.57%\n",
      "column:   Bathroom\t percent of NaN value: 23.60%\n",
      "column:        Car\t percent of NaN value: 25.04%\n",
      "column:   Landsize\t percent of NaN value: 33.88%\n",
      "column: BuildingArea\t percent of NaN value: 60.58%\n",
      "column:  YearBuilt\t percent of NaN value: 55.39%\n",
      "column: CouncilArea\t percent of NaN value: 0.01%\n"
     ]
    }
   ],
   "source": [
    "# check missing values percentage in each columns\n",
    "for col in df2.columns:\n",
    "    msg = 'column: {:>10}\\t percent of NaN value: {:.2f}%'.format(col, 100 * \n",
    "          (df2[col].isnull().sum() / df2[col].shape[0]))\n",
    "    print(msg)"
   ]
  },
  {
   "cell_type": "markdown",
   "metadata": {
    "id": "jsIJBamXMC0r"
   },
   "source": [
    "For columns that have missing values % below 5%, rows in the columns containing the missing values will be deleted. Conversly, different method will be applied.\n",
    "\n",
    "**Rows that contain missing value in column CouncilArea will be deleted**"
   ]
  },
  {
   "cell_type": "code",
   "execution_count": null,
   "metadata": {
    "colab": {
     "base_uri": "https://localhost:8080/"
    },
    "id": "rAAcnGYqN4Cn",
    "outputId": "f860ff68-d5c3-4c8b-d3c0-e38efa55f380"
   },
   "outputs": [
    {
     "data": {
      "text/plain": [
       "(34857, 12)"
      ]
     },
     "execution_count": 198,
     "metadata": {},
     "output_type": "execute_result"
    }
   ],
   "source": [
    "# Check data shape before\n",
    "df2.shape"
   ]
  },
  {
   "cell_type": "code",
   "execution_count": null,
   "metadata": {
    "id": "kKu7d1NTLW2G"
   },
   "outputs": [],
   "source": [
    "index = df2.index[df2['CouncilArea'].isnull()]\n",
    "df2.drop(index, inplace=True)"
   ]
  },
  {
   "cell_type": "code",
   "execution_count": null,
   "metadata": {
    "colab": {
     "base_uri": "https://localhost:8080/"
    },
    "id": "JeLH48LMNb7u",
    "outputId": "2e20a48c-728e-4962-b9d1-dd0041fe27a5"
   },
   "outputs": [
    {
     "name": "stdout",
     "output_type": "stream",
     "text": [
      "column:     Suburb\t percent of NaN value: 0.00% \n",
      "column:      Rooms\t percent of NaN value: 0.00% \n",
      "column:       Type\t percent of NaN value: 0.00% \n",
      "column:      Price\t percent of NaN value: 21.83% \n",
      "column:   Distance\t percent of NaN value: 0.00% \n",
      "column:   Bedroom2\t percent of NaN value: 23.57% \n",
      "column:   Bathroom\t percent of NaN value: 23.59% \n",
      "column:        Car\t percent of NaN value: 25.03% \n",
      "column:   Landsize\t percent of NaN value: 33.88% \n",
      "column: BuildingArea\t percent of NaN value: 60.57% \n",
      "column:  YearBuilt\t percent of NaN value: 55.38% \n",
      "column: CouncilArea\t percent of NaN value: 0.00% \n"
     ]
    }
   ],
   "source": [
    "for col in df2.columns:\n",
    "    msg = 'column: {:>10}\\t percent of NaN value: {:.2f}% '.format(col, 100 * \n",
    "          (df2[col].isnull().sum() / df2[col].shape[0]))\n",
    "    print(msg)"
   ]
  },
  {
   "cell_type": "code",
   "execution_count": null,
   "metadata": {
    "colab": {
     "base_uri": "https://localhost:8080/"
    },
    "id": "0CjWYUJENeRR",
    "outputId": "19e2c358-1e32-44ec-cd48-ee9863b32a20"
   },
   "outputs": [
    {
     "data": {
      "text/plain": [
       "(34854, 12)"
      ]
     },
     "execution_count": 201,
     "metadata": {},
     "output_type": "execute_result"
    }
   ],
   "source": [
    "# check data shape after removing missing values\n",
    "df2.shape"
   ]
  },
  {
   "cell_type": "code",
   "execution_count": null,
   "metadata": {
    "id": "km2EAXM_OOnd"
   },
   "outputs": [],
   "source": [
    "# Fill categorical type features that have missing values with mode value\n",
    "cat_columns = ['Suburb', 'Type', 'CouncilArea']\n",
    "\n",
    "for column in cat_columns:\n",
    "    df2.loc[df2[column].isnull(), column] = str(df2[column].mode())"
   ]
  },
  {
   "cell_type": "code",
   "execution_count": null,
   "metadata": {
    "id": "gFPgzV6uR-uF"
   },
   "outputs": [],
   "source": [
    "# Fill numerical type features that have missing values with median value\n",
    "num_columns = ['Rooms', 'Distance', 'Bedroom2', 'Bathroom', 'Car', 'Landsize',\n",
    "               'BuildingArea', 'YearBuilt', 'Price']\n",
    "\n",
    "for column in num_columns:\n",
    "  df2.loc[df2[column].isnull(), column] = int(df2[column].mean())              "
   ]
  },
  {
   "cell_type": "code",
   "execution_count": null,
   "metadata": {
    "colab": {
     "base_uri": "https://localhost:8080/"
    },
    "id": "RP59w-QqOfXV",
    "outputId": "6016cedc-538d-45c5-d1c5-bcc18b43339e"
   },
   "outputs": [
    {
     "name": "stdout",
     "output_type": "stream",
     "text": [
      "column:     Suburb\t percent of NaN value: 0.00% \n",
      "column:      Rooms\t percent of NaN value: 0.00% \n",
      "column:       Type\t percent of NaN value: 0.00% \n",
      "column:      Price\t percent of NaN value: 0.00% \n",
      "column:   Distance\t percent of NaN value: 0.00% \n",
      "column:   Bedroom2\t percent of NaN value: 0.00% \n",
      "column:   Bathroom\t percent of NaN value: 0.00% \n",
      "column:        Car\t percent of NaN value: 0.00% \n",
      "column:   Landsize\t percent of NaN value: 0.00% \n",
      "column: BuildingArea\t percent of NaN value: 0.00% \n",
      "column:  YearBuilt\t percent of NaN value: 0.00% \n",
      "column: CouncilArea\t percent of NaN value: 0.00% \n"
     ]
    }
   ],
   "source": [
    "for col in df2.columns:\n",
    "    msg = 'column: {:>10}\\t percent of NaN value: {:.2f}% '.format(col, 100 * \n",
    "          (df2[col].isnull().sum() / df2[col].shape[0]))\n",
    "    print(msg)"
   ]
  },
  {
   "cell_type": "markdown",
   "metadata": {
    "id": "Hhl4nB8gWoGb"
   },
   "source": [
    "## Conduct one-hot encoding for categorical type features"
   ]
  },
  {
   "cell_type": "code",
   "execution_count": null,
   "metadata": {
    "id": "3Gegy_8kSAxQ"
   },
   "outputs": [],
   "source": [
    "# df3 = pd.get_dummies(df2, columns = ['Type'])"
   ]
  },
  {
   "cell_type": "code",
   "execution_count": null,
   "metadata": {
    "id": "4tlxFSxyTQrH"
   },
   "outputs": [],
   "source": [
    "# df3"
   ]
  },
  {
   "cell_type": "markdown",
   "metadata": {
    "id": "QH_uGBDa86zR"
   },
   "source": [
    "## Label Encoding"
   ]
  },
  {
   "cell_type": "code",
   "execution_count": null,
   "metadata": {
    "id": "3Oa5pWxh89vR"
   },
   "outputs": [],
   "source": [
    "df3 = df2.copy()\n",
    "df3['Suburb'] = df3['Suburb'].astype('category').cat.codes\n",
    "df3['CouncilArea'] = df3['CouncilArea'].astype('category').cat.codes\n",
    "df3['Type'] = df3['Type'].astype('category').cat.codes"
   ]
  },
  {
   "cell_type": "code",
   "execution_count": null,
   "metadata": {
    "colab": {
     "base_uri": "https://localhost:8080/",
     "height": 424
    },
    "id": "fQHdHLAD-bWk",
    "outputId": "87bbd01a-49ef-44a3-93a8-2a053ff2f929"
   },
   "outputs": [
    {
     "data": {
      "text/html": [
       "\n",
       "  <div id=\"df-573a276e-ccd5-4077-8aae-16f92daba49d\">\n",
       "    <div class=\"colab-df-container\">\n",
       "      <div>\n",
       "<style scoped>\n",
       "    .dataframe tbody tr th:only-of-type {\n",
       "        vertical-align: middle;\n",
       "    }\n",
       "\n",
       "    .dataframe tbody tr th {\n",
       "        vertical-align: top;\n",
       "    }\n",
       "\n",
       "    .dataframe thead th {\n",
       "        text-align: right;\n",
       "    }\n",
       "</style>\n",
       "<table border=\"1\" class=\"dataframe\">\n",
       "  <thead>\n",
       "    <tr style=\"text-align: right;\">\n",
       "      <th></th>\n",
       "      <th>Suburb</th>\n",
       "      <th>Rooms</th>\n",
       "      <th>Type</th>\n",
       "      <th>Price</th>\n",
       "      <th>Distance</th>\n",
       "      <th>Bedroom2</th>\n",
       "      <th>Bathroom</th>\n",
       "      <th>Car</th>\n",
       "      <th>Landsize</th>\n",
       "      <th>BuildingArea</th>\n",
       "      <th>YearBuilt</th>\n",
       "      <th>CouncilArea</th>\n",
       "    </tr>\n",
       "  </thead>\n",
       "  <tbody>\n",
       "    <tr>\n",
       "      <th>0</th>\n",
       "      <td>0</td>\n",
       "      <td>2</td>\n",
       "      <td>0</td>\n",
       "      <td>1050210.0</td>\n",
       "      <td>2.5</td>\n",
       "      <td>2.0</td>\n",
       "      <td>1.0</td>\n",
       "      <td>1.0</td>\n",
       "      <td>126.0</td>\n",
       "      <td>160.0</td>\n",
       "      <td>1965.0</td>\n",
       "      <td>31</td>\n",
       "    </tr>\n",
       "    <tr>\n",
       "      <th>1</th>\n",
       "      <td>0</td>\n",
       "      <td>2</td>\n",
       "      <td>0</td>\n",
       "      <td>1480000.0</td>\n",
       "      <td>2.5</td>\n",
       "      <td>2.0</td>\n",
       "      <td>1.0</td>\n",
       "      <td>1.0</td>\n",
       "      <td>202.0</td>\n",
       "      <td>160.0</td>\n",
       "      <td>1965.0</td>\n",
       "      <td>31</td>\n",
       "    </tr>\n",
       "    <tr>\n",
       "      <th>2</th>\n",
       "      <td>0</td>\n",
       "      <td>2</td>\n",
       "      <td>0</td>\n",
       "      <td>1035000.0</td>\n",
       "      <td>2.5</td>\n",
       "      <td>2.0</td>\n",
       "      <td>1.0</td>\n",
       "      <td>0.0</td>\n",
       "      <td>156.0</td>\n",
       "      <td>79.0</td>\n",
       "      <td>1900.0</td>\n",
       "      <td>31</td>\n",
       "    </tr>\n",
       "    <tr>\n",
       "      <th>3</th>\n",
       "      <td>0</td>\n",
       "      <td>3</td>\n",
       "      <td>2</td>\n",
       "      <td>1050210.0</td>\n",
       "      <td>2.5</td>\n",
       "      <td>3.0</td>\n",
       "      <td>2.0</td>\n",
       "      <td>1.0</td>\n",
       "      <td>0.0</td>\n",
       "      <td>160.0</td>\n",
       "      <td>1965.0</td>\n",
       "      <td>31</td>\n",
       "    </tr>\n",
       "    <tr>\n",
       "      <th>4</th>\n",
       "      <td>0</td>\n",
       "      <td>3</td>\n",
       "      <td>0</td>\n",
       "      <td>1465000.0</td>\n",
       "      <td>2.5</td>\n",
       "      <td>3.0</td>\n",
       "      <td>2.0</td>\n",
       "      <td>0.0</td>\n",
       "      <td>134.0</td>\n",
       "      <td>150.0</td>\n",
       "      <td>1900.0</td>\n",
       "      <td>31</td>\n",
       "    </tr>\n",
       "    <tr>\n",
       "      <th>...</th>\n",
       "      <td>...</td>\n",
       "      <td>...</td>\n",
       "      <td>...</td>\n",
       "      <td>...</td>\n",
       "      <td>...</td>\n",
       "      <td>...</td>\n",
       "      <td>...</td>\n",
       "      <td>...</td>\n",
       "      <td>...</td>\n",
       "      <td>...</td>\n",
       "      <td>...</td>\n",
       "      <td>...</td>\n",
       "    </tr>\n",
       "    <tr>\n",
       "      <th>34852</th>\n",
       "      <td>347</td>\n",
       "      <td>4</td>\n",
       "      <td>0</td>\n",
       "      <td>1480000.0</td>\n",
       "      <td>6.3</td>\n",
       "      <td>4.0</td>\n",
       "      <td>1.0</td>\n",
       "      <td>3.0</td>\n",
       "      <td>593.0</td>\n",
       "      <td>160.0</td>\n",
       "      <td>1965.0</td>\n",
       "      <td>16</td>\n",
       "    </tr>\n",
       "    <tr>\n",
       "      <th>34853</th>\n",
       "      <td>347</td>\n",
       "      <td>2</td>\n",
       "      <td>0</td>\n",
       "      <td>888000.0</td>\n",
       "      <td>6.3</td>\n",
       "      <td>2.0</td>\n",
       "      <td>2.0</td>\n",
       "      <td>1.0</td>\n",
       "      <td>98.0</td>\n",
       "      <td>104.0</td>\n",
       "      <td>2018.0</td>\n",
       "      <td>16</td>\n",
       "    </tr>\n",
       "    <tr>\n",
       "      <th>34854</th>\n",
       "      <td>347</td>\n",
       "      <td>2</td>\n",
       "      <td>1</td>\n",
       "      <td>705000.0</td>\n",
       "      <td>6.3</td>\n",
       "      <td>2.0</td>\n",
       "      <td>1.0</td>\n",
       "      <td>2.0</td>\n",
       "      <td>220.0</td>\n",
       "      <td>120.0</td>\n",
       "      <td>2000.0</td>\n",
       "      <td>16</td>\n",
       "    </tr>\n",
       "    <tr>\n",
       "      <th>34855</th>\n",
       "      <td>347</td>\n",
       "      <td>3</td>\n",
       "      <td>0</td>\n",
       "      <td>1140000.0</td>\n",
       "      <td>6.3</td>\n",
       "      <td>3.0</td>\n",
       "      <td>1.0</td>\n",
       "      <td>1.0</td>\n",
       "      <td>593.0</td>\n",
       "      <td>160.0</td>\n",
       "      <td>1965.0</td>\n",
       "      <td>16</td>\n",
       "    </tr>\n",
       "    <tr>\n",
       "      <th>34856</th>\n",
       "      <td>347</td>\n",
       "      <td>2</td>\n",
       "      <td>0</td>\n",
       "      <td>1020000.0</td>\n",
       "      <td>6.3</td>\n",
       "      <td>2.0</td>\n",
       "      <td>1.0</td>\n",
       "      <td>0.0</td>\n",
       "      <td>250.0</td>\n",
       "      <td>103.0</td>\n",
       "      <td>1930.0</td>\n",
       "      <td>16</td>\n",
       "    </tr>\n",
       "  </tbody>\n",
       "</table>\n",
       "<p>34854 rows × 12 columns</p>\n",
       "</div>\n",
       "      <button class=\"colab-df-convert\" onclick=\"convertToInteractive('df-573a276e-ccd5-4077-8aae-16f92daba49d')\"\n",
       "              title=\"Convert this dataframe to an interactive table.\"\n",
       "              style=\"display:none;\">\n",
       "        \n",
       "  <svg xmlns=\"http://www.w3.org/2000/svg\" height=\"24px\"viewBox=\"0 0 24 24\"\n",
       "       width=\"24px\">\n",
       "    <path d=\"M0 0h24v24H0V0z\" fill=\"none\"/>\n",
       "    <path d=\"M18.56 5.44l.94 2.06.94-2.06 2.06-.94-2.06-.94-.94-2.06-.94 2.06-2.06.94zm-11 1L8.5 8.5l.94-2.06 2.06-.94-2.06-.94L8.5 2.5l-.94 2.06-2.06.94zm10 10l.94 2.06.94-2.06 2.06-.94-2.06-.94-.94-2.06-.94 2.06-2.06.94z\"/><path d=\"M17.41 7.96l-1.37-1.37c-.4-.4-.92-.59-1.43-.59-.52 0-1.04.2-1.43.59L10.3 9.45l-7.72 7.72c-.78.78-.78 2.05 0 2.83L4 21.41c.39.39.9.59 1.41.59.51 0 1.02-.2 1.41-.59l7.78-7.78 2.81-2.81c.8-.78.8-2.07 0-2.86zM5.41 20L4 18.59l7.72-7.72 1.47 1.35L5.41 20z\"/>\n",
       "  </svg>\n",
       "      </button>\n",
       "      \n",
       "  <style>\n",
       "    .colab-df-container {\n",
       "      display:flex;\n",
       "      flex-wrap:wrap;\n",
       "      gap: 12px;\n",
       "    }\n",
       "\n",
       "    .colab-df-convert {\n",
       "      background-color: #E8F0FE;\n",
       "      border: none;\n",
       "      border-radius: 50%;\n",
       "      cursor: pointer;\n",
       "      display: none;\n",
       "      fill: #1967D2;\n",
       "      height: 32px;\n",
       "      padding: 0 0 0 0;\n",
       "      width: 32px;\n",
       "    }\n",
       "\n",
       "    .colab-df-convert:hover {\n",
       "      background-color: #E2EBFA;\n",
       "      box-shadow: 0px 1px 2px rgba(60, 64, 67, 0.3), 0px 1px 3px 1px rgba(60, 64, 67, 0.15);\n",
       "      fill: #174EA6;\n",
       "    }\n",
       "\n",
       "    [theme=dark] .colab-df-convert {\n",
       "      background-color: #3B4455;\n",
       "      fill: #D2E3FC;\n",
       "    }\n",
       "\n",
       "    [theme=dark] .colab-df-convert:hover {\n",
       "      background-color: #434B5C;\n",
       "      box-shadow: 0px 1px 3px 1px rgba(0, 0, 0, 0.15);\n",
       "      filter: drop-shadow(0px 1px 2px rgba(0, 0, 0, 0.3));\n",
       "      fill: #FFFFFF;\n",
       "    }\n",
       "  </style>\n",
       "\n",
       "      <script>\n",
       "        const buttonEl =\n",
       "          document.querySelector('#df-573a276e-ccd5-4077-8aae-16f92daba49d button.colab-df-convert');\n",
       "        buttonEl.style.display =\n",
       "          google.colab.kernel.accessAllowed ? 'block' : 'none';\n",
       "\n",
       "        async function convertToInteractive(key) {\n",
       "          const element = document.querySelector('#df-573a276e-ccd5-4077-8aae-16f92daba49d');\n",
       "          const dataTable =\n",
       "            await google.colab.kernel.invokeFunction('convertToInteractive',\n",
       "                                                     [key], {});\n",
       "          if (!dataTable) return;\n",
       "\n",
       "          const docLinkHtml = 'Like what you see? Visit the ' +\n",
       "            '<a target=\"_blank\" href=https://colab.research.google.com/notebooks/data_table.ipynb>data table notebook</a>'\n",
       "            + ' to learn more about interactive tables.';\n",
       "          element.innerHTML = '';\n",
       "          dataTable['output_type'] = 'display_data';\n",
       "          await google.colab.output.renderOutput(dataTable, element);\n",
       "          const docLink = document.createElement('div');\n",
       "          docLink.innerHTML = docLinkHtml;\n",
       "          element.appendChild(docLink);\n",
       "        }\n",
       "      </script>\n",
       "    </div>\n",
       "  </div>\n",
       "  "
      ],
      "text/plain": [
       "       Suburb  Rooms  Type      Price  Distance  Bedroom2  Bathroom  Car  \\\n",
       "0           0      2     0  1050210.0       2.5       2.0       1.0  1.0   \n",
       "1           0      2     0  1480000.0       2.5       2.0       1.0  1.0   \n",
       "2           0      2     0  1035000.0       2.5       2.0       1.0  0.0   \n",
       "3           0      3     2  1050210.0       2.5       3.0       2.0  1.0   \n",
       "4           0      3     0  1465000.0       2.5       3.0       2.0  0.0   \n",
       "...       ...    ...   ...        ...       ...       ...       ...  ...   \n",
       "34852     347      4     0  1480000.0       6.3       4.0       1.0  3.0   \n",
       "34853     347      2     0   888000.0       6.3       2.0       2.0  1.0   \n",
       "34854     347      2     1   705000.0       6.3       2.0       1.0  2.0   \n",
       "34855     347      3     0  1140000.0       6.3       3.0       1.0  1.0   \n",
       "34856     347      2     0  1020000.0       6.3       2.0       1.0  0.0   \n",
       "\n",
       "       Landsize  BuildingArea  YearBuilt  CouncilArea  \n",
       "0         126.0         160.0     1965.0           31  \n",
       "1         202.0         160.0     1965.0           31  \n",
       "2         156.0          79.0     1900.0           31  \n",
       "3           0.0         160.0     1965.0           31  \n",
       "4         134.0         150.0     1900.0           31  \n",
       "...         ...           ...        ...          ...  \n",
       "34852     593.0         160.0     1965.0           16  \n",
       "34853      98.0         104.0     2018.0           16  \n",
       "34854     220.0         120.0     2000.0           16  \n",
       "34855     593.0         160.0     1965.0           16  \n",
       "34856     250.0         103.0     1930.0           16  \n",
       "\n",
       "[34854 rows x 12 columns]"
      ]
     },
     "execution_count": 287,
     "metadata": {},
     "output_type": "execute_result"
    }
   ],
   "source": [
    "df3"
   ]
  },
  {
   "cell_type": "markdown",
   "metadata": {
    "id": "T4eUCFhkXd76"
   },
   "source": [
    "## Check Multicollinearity"
   ]
  },
  {
   "cell_type": "code",
   "execution_count": null,
   "metadata": {
    "colab": {
     "base_uri": "https://localhost:8080/"
    },
    "id": "v6KR-T4hXiwY",
    "outputId": "9efb2de4-6c3d-4f20-a909-180a10308efb"
   },
   "outputs": [
    {
     "name": "stdout",
     "output_type": "stream",
     "text": [
      "         feature        VIF\n",
      "0   BuildingArea   1.434666\n",
      "1       Landsize   1.056604\n",
      "2          Rooms  41.145228\n",
      "3       Distance   4.212470\n",
      "4       Bedroom2  47.471768\n",
      "5       Bathroom   9.215887\n",
      "6            Car   4.854444\n",
      "7         Suburb   3.980663\n",
      "8      YearBuilt  29.836629\n",
      "9    CouncilArea   3.008116\n",
      "10          Type   2.122296\n"
     ]
    }
   ],
   "source": [
    "# the independent variables set\n",
    "X = df3[['BuildingArea', 'Landsize','Rooms', 'Distance', 'Bedroom2', 'Bathroom', \n",
    "       'Car', 'Suburb', 'YearBuilt', 'CouncilArea', 'Type']]\n",
    "\n",
    "# VIF dataframe\n",
    "vif_data = pd.DataFrame()\n",
    "vif_data[\"feature\"] = X.columns\n",
    "\n",
    "# calculating VIF for each feature\n",
    "vif_data[\"VIF\"] = [variance_inflation_factor(X.values, i)\n",
    "\t\t\t\t\t\tfor i in range(len(X.columns))]\n",
    "\n",
    "print(vif_data)\n"
   ]
  },
  {
   "cell_type": "code",
   "execution_count": null,
   "metadata": {
    "id": "uKb3D783QsjK"
   },
   "outputs": [],
   "source": [
    "df4 = df3.drop(['YearBuilt'], axis=1, inplace=False)"
   ]
  },
  {
   "cell_type": "code",
   "execution_count": null,
   "metadata": {
    "colab": {
     "base_uri": "https://localhost:8080/",
     "height": 206
    },
    "id": "SZ9It2iMSZZQ",
    "outputId": "f74bc0dc-3400-47ef-bbe5-6a5a1342525a"
   },
   "outputs": [
    {
     "data": {
      "text/html": [
       "\n",
       "  <div id=\"df-620c0ffc-8807-408a-844c-eecc2c46c399\">\n",
       "    <div class=\"colab-df-container\">\n",
       "      <div>\n",
       "<style scoped>\n",
       "    .dataframe tbody tr th:only-of-type {\n",
       "        vertical-align: middle;\n",
       "    }\n",
       "\n",
       "    .dataframe tbody tr th {\n",
       "        vertical-align: top;\n",
       "    }\n",
       "\n",
       "    .dataframe thead th {\n",
       "        text-align: right;\n",
       "    }\n",
       "</style>\n",
       "<table border=\"1\" class=\"dataframe\">\n",
       "  <thead>\n",
       "    <tr style=\"text-align: right;\">\n",
       "      <th></th>\n",
       "      <th>Suburb</th>\n",
       "      <th>Rooms</th>\n",
       "      <th>Type</th>\n",
       "      <th>Price</th>\n",
       "      <th>Distance</th>\n",
       "      <th>Bedroom2</th>\n",
       "      <th>Bathroom</th>\n",
       "      <th>Car</th>\n",
       "      <th>Landsize</th>\n",
       "      <th>BuildingArea</th>\n",
       "      <th>CouncilArea</th>\n",
       "    </tr>\n",
       "  </thead>\n",
       "  <tbody>\n",
       "    <tr>\n",
       "      <th>0</th>\n",
       "      <td>0</td>\n",
       "      <td>2</td>\n",
       "      <td>0</td>\n",
       "      <td>1050210.0</td>\n",
       "      <td>2.5</td>\n",
       "      <td>2.0</td>\n",
       "      <td>1.0</td>\n",
       "      <td>1.0</td>\n",
       "      <td>126.0</td>\n",
       "      <td>160.0</td>\n",
       "      <td>31</td>\n",
       "    </tr>\n",
       "    <tr>\n",
       "      <th>1</th>\n",
       "      <td>0</td>\n",
       "      <td>2</td>\n",
       "      <td>0</td>\n",
       "      <td>1480000.0</td>\n",
       "      <td>2.5</td>\n",
       "      <td>2.0</td>\n",
       "      <td>1.0</td>\n",
       "      <td>1.0</td>\n",
       "      <td>202.0</td>\n",
       "      <td>160.0</td>\n",
       "      <td>31</td>\n",
       "    </tr>\n",
       "    <tr>\n",
       "      <th>2</th>\n",
       "      <td>0</td>\n",
       "      <td>2</td>\n",
       "      <td>0</td>\n",
       "      <td>1035000.0</td>\n",
       "      <td>2.5</td>\n",
       "      <td>2.0</td>\n",
       "      <td>1.0</td>\n",
       "      <td>0.0</td>\n",
       "      <td>156.0</td>\n",
       "      <td>79.0</td>\n",
       "      <td>31</td>\n",
       "    </tr>\n",
       "    <tr>\n",
       "      <th>3</th>\n",
       "      <td>0</td>\n",
       "      <td>3</td>\n",
       "      <td>2</td>\n",
       "      <td>1050210.0</td>\n",
       "      <td>2.5</td>\n",
       "      <td>3.0</td>\n",
       "      <td>2.0</td>\n",
       "      <td>1.0</td>\n",
       "      <td>0.0</td>\n",
       "      <td>160.0</td>\n",
       "      <td>31</td>\n",
       "    </tr>\n",
       "    <tr>\n",
       "      <th>4</th>\n",
       "      <td>0</td>\n",
       "      <td>3</td>\n",
       "      <td>0</td>\n",
       "      <td>1465000.0</td>\n",
       "      <td>2.5</td>\n",
       "      <td>3.0</td>\n",
       "      <td>2.0</td>\n",
       "      <td>0.0</td>\n",
       "      <td>134.0</td>\n",
       "      <td>150.0</td>\n",
       "      <td>31</td>\n",
       "    </tr>\n",
       "  </tbody>\n",
       "</table>\n",
       "</div>\n",
       "      <button class=\"colab-df-convert\" onclick=\"convertToInteractive('df-620c0ffc-8807-408a-844c-eecc2c46c399')\"\n",
       "              title=\"Convert this dataframe to an interactive table.\"\n",
       "              style=\"display:none;\">\n",
       "        \n",
       "  <svg xmlns=\"http://www.w3.org/2000/svg\" height=\"24px\"viewBox=\"0 0 24 24\"\n",
       "       width=\"24px\">\n",
       "    <path d=\"M0 0h24v24H0V0z\" fill=\"none\"/>\n",
       "    <path d=\"M18.56 5.44l.94 2.06.94-2.06 2.06-.94-2.06-.94-.94-2.06-.94 2.06-2.06.94zm-11 1L8.5 8.5l.94-2.06 2.06-.94-2.06-.94L8.5 2.5l-.94 2.06-2.06.94zm10 10l.94 2.06.94-2.06 2.06-.94-2.06-.94-.94-2.06-.94 2.06-2.06.94z\"/><path d=\"M17.41 7.96l-1.37-1.37c-.4-.4-.92-.59-1.43-.59-.52 0-1.04.2-1.43.59L10.3 9.45l-7.72 7.72c-.78.78-.78 2.05 0 2.83L4 21.41c.39.39.9.59 1.41.59.51 0 1.02-.2 1.41-.59l7.78-7.78 2.81-2.81c.8-.78.8-2.07 0-2.86zM5.41 20L4 18.59l7.72-7.72 1.47 1.35L5.41 20z\"/>\n",
       "  </svg>\n",
       "      </button>\n",
       "      \n",
       "  <style>\n",
       "    .colab-df-container {\n",
       "      display:flex;\n",
       "      flex-wrap:wrap;\n",
       "      gap: 12px;\n",
       "    }\n",
       "\n",
       "    .colab-df-convert {\n",
       "      background-color: #E8F0FE;\n",
       "      border: none;\n",
       "      border-radius: 50%;\n",
       "      cursor: pointer;\n",
       "      display: none;\n",
       "      fill: #1967D2;\n",
       "      height: 32px;\n",
       "      padding: 0 0 0 0;\n",
       "      width: 32px;\n",
       "    }\n",
       "\n",
       "    .colab-df-convert:hover {\n",
       "      background-color: #E2EBFA;\n",
       "      box-shadow: 0px 1px 2px rgba(60, 64, 67, 0.3), 0px 1px 3px 1px rgba(60, 64, 67, 0.15);\n",
       "      fill: #174EA6;\n",
       "    }\n",
       "\n",
       "    [theme=dark] .colab-df-convert {\n",
       "      background-color: #3B4455;\n",
       "      fill: #D2E3FC;\n",
       "    }\n",
       "\n",
       "    [theme=dark] .colab-df-convert:hover {\n",
       "      background-color: #434B5C;\n",
       "      box-shadow: 0px 1px 3px 1px rgba(0, 0, 0, 0.15);\n",
       "      filter: drop-shadow(0px 1px 2px rgba(0, 0, 0, 0.3));\n",
       "      fill: #FFFFFF;\n",
       "    }\n",
       "  </style>\n",
       "\n",
       "      <script>\n",
       "        const buttonEl =\n",
       "          document.querySelector('#df-620c0ffc-8807-408a-844c-eecc2c46c399 button.colab-df-convert');\n",
       "        buttonEl.style.display =\n",
       "          google.colab.kernel.accessAllowed ? 'block' : 'none';\n",
       "\n",
       "        async function convertToInteractive(key) {\n",
       "          const element = document.querySelector('#df-620c0ffc-8807-408a-844c-eecc2c46c399');\n",
       "          const dataTable =\n",
       "            await google.colab.kernel.invokeFunction('convertToInteractive',\n",
       "                                                     [key], {});\n",
       "          if (!dataTable) return;\n",
       "\n",
       "          const docLinkHtml = 'Like what you see? Visit the ' +\n",
       "            '<a target=\"_blank\" href=https://colab.research.google.com/notebooks/data_table.ipynb>data table notebook</a>'\n",
       "            + ' to learn more about interactive tables.';\n",
       "          element.innerHTML = '';\n",
       "          dataTable['output_type'] = 'display_data';\n",
       "          await google.colab.output.renderOutput(dataTable, element);\n",
       "          const docLink = document.createElement('div');\n",
       "          docLink.innerHTML = docLinkHtml;\n",
       "          element.appendChild(docLink);\n",
       "        }\n",
       "      </script>\n",
       "    </div>\n",
       "  </div>\n",
       "  "
      ],
      "text/plain": [
       "   Suburb  Rooms  Type      Price  Distance  Bedroom2  Bathroom  Car  \\\n",
       "0       0      2     0  1050210.0       2.5       2.0       1.0  1.0   \n",
       "1       0      2     0  1480000.0       2.5       2.0       1.0  1.0   \n",
       "2       0      2     0  1035000.0       2.5       2.0       1.0  0.0   \n",
       "3       0      3     2  1050210.0       2.5       3.0       2.0  1.0   \n",
       "4       0      3     0  1465000.0       2.5       3.0       2.0  0.0   \n",
       "\n",
       "   Landsize  BuildingArea  CouncilArea  \n",
       "0     126.0         160.0           31  \n",
       "1     202.0         160.0           31  \n",
       "2     156.0          79.0           31  \n",
       "3       0.0         160.0           31  \n",
       "4     134.0         150.0           31  "
      ]
     },
     "execution_count": 290,
     "metadata": {},
     "output_type": "execute_result"
    }
   ],
   "source": [
    "df4.head()"
   ]
  },
  {
   "cell_type": "markdown",
   "metadata": {
    "id": "sETZNcZATPob"
   },
   "source": [
    "## Scalling"
   ]
  },
  {
   "cell_type": "code",
   "execution_count": null,
   "metadata": {
    "id": "Cxta6mBuKGFn"
   },
   "outputs": [],
   "source": [
    "from sklearn.preprocessing import MinMaxScaler, StandardScaler\n",
    "\n",
    "df4['Distance'] = MinMaxScaler().fit_transform(df4['Distance'].values.reshape(len(df4), 1))\n",
    "df4['Suburb'] = MinMaxScaler().fit_transform(df4['Suburb'].values.reshape(len(df4), 1))\n",
    "df4['Rooms'] = MinMaxScaler().fit_transform(df4['Rooms'].values.reshape(len(df4), 1))\n",
    "df4['Type'] = MinMaxScaler().fit_transform(df4['Type'].values.reshape(len(df4), 1))\n",
    "df4['Bedroom2'] = MinMaxScaler().fit_transform(df4['Bedroom2'].values.reshape(len(df4), 1))\n",
    "df4['Bathroom'] = MinMaxScaler().fit_transform(df4['Bathroom'].values.reshape(len(df4), 1))\n",
    "df4['Car'] = MinMaxScaler().fit_transform(df4['Car'].values.reshape(len(df4), 1))\n",
    "df4['Landsize'] = MinMaxScaler().fit_transform(df4['Landsize'].values.reshape(len(df4), 1))\n",
    "df4['BuildingArea'] = MinMaxScaler().fit_transform(df4['BuildingArea'].values.reshape(len(df4), 1))\n",
    "df4['CouncilArea'] = MinMaxScaler().fit_transform(df4['CouncilArea'].values.reshape(len(df4), 1))"
   ]
  },
  {
   "cell_type": "code",
   "execution_count": null,
   "metadata": {
    "colab": {
     "base_uri": "https://localhost:8080/",
     "height": 81
    },
    "id": "CLkjVmNMTSKY",
    "outputId": "e89c986f-1596-4743-a5fd-57d9aa7c1275"
   },
   "outputs": [
    {
     "data": {
      "text/html": [
       "\n",
       "  <div id=\"df-1dfd598a-fd92-41ea-ba85-f95fd037ed59\">\n",
       "    <div class=\"colab-df-container\">\n",
       "      <div>\n",
       "<style scoped>\n",
       "    .dataframe tbody tr th:only-of-type {\n",
       "        vertical-align: middle;\n",
       "    }\n",
       "\n",
       "    .dataframe tbody tr th {\n",
       "        vertical-align: top;\n",
       "    }\n",
       "\n",
       "    .dataframe thead th {\n",
       "        text-align: right;\n",
       "    }\n",
       "</style>\n",
       "<table border=\"1\" class=\"dataframe\">\n",
       "  <thead>\n",
       "    <tr style=\"text-align: right;\">\n",
       "      <th></th>\n",
       "      <th>Suburb</th>\n",
       "      <th>Rooms</th>\n",
       "      <th>Type</th>\n",
       "      <th>Price</th>\n",
       "      <th>Distance</th>\n",
       "      <th>Bedroom2</th>\n",
       "      <th>Bathroom</th>\n",
       "      <th>Car</th>\n",
       "      <th>Landsize</th>\n",
       "      <th>BuildingArea</th>\n",
       "      <th>CouncilArea</th>\n",
       "    </tr>\n",
       "  </thead>\n",
       "  <tbody>\n",
       "    <tr>\n",
       "      <th>10808</th>\n",
       "      <td>0.977077</td>\n",
       "      <td>0.133333</td>\n",
       "      <td>0.0</td>\n",
       "      <td>1050210.0</td>\n",
       "      <td>0.106029</td>\n",
       "      <td>0.1</td>\n",
       "      <td>0.166667</td>\n",
       "      <td>0.038462</td>\n",
       "      <td>0.00043</td>\n",
       "      <td>0.003594</td>\n",
       "      <td>0.8125</td>\n",
       "    </tr>\n",
       "  </tbody>\n",
       "</table>\n",
       "</div>\n",
       "      <button class=\"colab-df-convert\" onclick=\"convertToInteractive('df-1dfd598a-fd92-41ea-ba85-f95fd037ed59')\"\n",
       "              title=\"Convert this dataframe to an interactive table.\"\n",
       "              style=\"display:none;\">\n",
       "        \n",
       "  <svg xmlns=\"http://www.w3.org/2000/svg\" height=\"24px\"viewBox=\"0 0 24 24\"\n",
       "       width=\"24px\">\n",
       "    <path d=\"M0 0h24v24H0V0z\" fill=\"none\"/>\n",
       "    <path d=\"M18.56 5.44l.94 2.06.94-2.06 2.06-.94-2.06-.94-.94-2.06-.94 2.06-2.06.94zm-11 1L8.5 8.5l.94-2.06 2.06-.94-2.06-.94L8.5 2.5l-.94 2.06-2.06.94zm10 10l.94 2.06.94-2.06 2.06-.94-2.06-.94-.94-2.06-.94 2.06-2.06.94z\"/><path d=\"M17.41 7.96l-1.37-1.37c-.4-.4-.92-.59-1.43-.59-.52 0-1.04.2-1.43.59L10.3 9.45l-7.72 7.72c-.78.78-.78 2.05 0 2.83L4 21.41c.39.39.9.59 1.41.59.51 0 1.02-.2 1.41-.59l7.78-7.78 2.81-2.81c.8-.78.8-2.07 0-2.86zM5.41 20L4 18.59l7.72-7.72 1.47 1.35L5.41 20z\"/>\n",
       "  </svg>\n",
       "      </button>\n",
       "      \n",
       "  <style>\n",
       "    .colab-df-container {\n",
       "      display:flex;\n",
       "      flex-wrap:wrap;\n",
       "      gap: 12px;\n",
       "    }\n",
       "\n",
       "    .colab-df-convert {\n",
       "      background-color: #E8F0FE;\n",
       "      border: none;\n",
       "      border-radius: 50%;\n",
       "      cursor: pointer;\n",
       "      display: none;\n",
       "      fill: #1967D2;\n",
       "      height: 32px;\n",
       "      padding: 0 0 0 0;\n",
       "      width: 32px;\n",
       "    }\n",
       "\n",
       "    .colab-df-convert:hover {\n",
       "      background-color: #E2EBFA;\n",
       "      box-shadow: 0px 1px 2px rgba(60, 64, 67, 0.3), 0px 1px 3px 1px rgba(60, 64, 67, 0.15);\n",
       "      fill: #174EA6;\n",
       "    }\n",
       "\n",
       "    [theme=dark] .colab-df-convert {\n",
       "      background-color: #3B4455;\n",
       "      fill: #D2E3FC;\n",
       "    }\n",
       "\n",
       "    [theme=dark] .colab-df-convert:hover {\n",
       "      background-color: #434B5C;\n",
       "      box-shadow: 0px 1px 3px 1px rgba(0, 0, 0, 0.15);\n",
       "      filter: drop-shadow(0px 1px 2px rgba(0, 0, 0, 0.3));\n",
       "      fill: #FFFFFF;\n",
       "    }\n",
       "  </style>\n",
       "\n",
       "      <script>\n",
       "        const buttonEl =\n",
       "          document.querySelector('#df-1dfd598a-fd92-41ea-ba85-f95fd037ed59 button.colab-df-convert');\n",
       "        buttonEl.style.display =\n",
       "          google.colab.kernel.accessAllowed ? 'block' : 'none';\n",
       "\n",
       "        async function convertToInteractive(key) {\n",
       "          const element = document.querySelector('#df-1dfd598a-fd92-41ea-ba85-f95fd037ed59');\n",
       "          const dataTable =\n",
       "            await google.colab.kernel.invokeFunction('convertToInteractive',\n",
       "                                                     [key], {});\n",
       "          if (!dataTable) return;\n",
       "\n",
       "          const docLinkHtml = 'Like what you see? Visit the ' +\n",
       "            '<a target=\"_blank\" href=https://colab.research.google.com/notebooks/data_table.ipynb>data table notebook</a>'\n",
       "            + ' to learn more about interactive tables.';\n",
       "          element.innerHTML = '';\n",
       "          dataTable['output_type'] = 'display_data';\n",
       "          await google.colab.output.renderOutput(dataTable, element);\n",
       "          const docLink = document.createElement('div');\n",
       "          docLink.innerHTML = docLinkHtml;\n",
       "          element.appendChild(docLink);\n",
       "        }\n",
       "      </script>\n",
       "    </div>\n",
       "  </div>\n",
       "  "
      ],
      "text/plain": [
       "         Suburb     Rooms  Type      Price  Distance  Bedroom2  Bathroom  \\\n",
       "10808  0.977077  0.133333   0.0  1050210.0  0.106029       0.1  0.166667   \n",
       "\n",
       "            Car  Landsize  BuildingArea  CouncilArea  \n",
       "10808  0.038462   0.00043      0.003594       0.8125  "
      ]
     },
     "execution_count": 292,
     "metadata": {},
     "output_type": "execute_result"
    }
   ],
   "source": [
    "df4.sample()"
   ]
  },
  {
   "cell_type": "markdown",
   "metadata": {
    "id": "kOfACbdJXhOb"
   },
   "source": [
    "## Separate Independent and Dependent variables"
   ]
  },
  {
   "cell_type": "code",
   "execution_count": null,
   "metadata": {
    "id": "BPrPUDMRW-oC"
   },
   "outputs": [],
   "source": [
    "del df4['Price']\n",
    "X = df4.values\n",
    "y = df2['Price'].values"
   ]
  },
  {
   "cell_type": "markdown",
   "metadata": {
    "id": "pwiiVPzYZ9-G"
   },
   "source": [
    "## Split data for training and testing"
   ]
  },
  {
   "cell_type": "code",
   "execution_count": null,
   "metadata": {
    "id": "gMPsL-MmX9Kg"
   },
   "outputs": [],
   "source": [
    "X_train, X_test, y_train, y_test = train_test_split(X, y, test_size=0.3, random_state=0)"
   ]
  },
  {
   "cell_type": "code",
   "execution_count": null,
   "metadata": {
    "id": "BvcCK51kS4Vs"
   },
   "outputs": [],
   "source": [
    "X_train = pd.DataFrame(X_train)"
   ]
  },
  {
   "cell_type": "code",
   "execution_count": null,
   "metadata": {
    "id": "kBFuGdqdFnCL"
   },
   "outputs": [],
   "source": [
    "# from imblearn.over_sampling import SMOTE\n",
    "# oversample = SMOTE(random_state=42, k_neighbors=10, sampling_strategy='majority')\n",
    "# X_over, y_over = oversample.fit_resample(X_train, y_train)"
   ]
  },
  {
   "cell_type": "markdown",
   "metadata": {
    "id": "6yxIaiNba2mS"
   },
   "source": [
    "# MODEL"
   ]
  },
  {
   "cell_type": "code",
   "execution_count": null,
   "metadata": {
    "id": "49a6cK7BZ6Jj"
   },
   "outputs": [],
   "source": [
    "model = ensemble.GradientBoostingRegressor(\n",
    "    n_estimators=300,\n",
    "    learning_rate=0.6,\n",
    "    max_depth=7,\n",
    "    min_samples_split=5,\n",
    "    min_samples_leaf=5,\n",
    "    max_features=0.8,\n",
    "    loss='absolute_error'\n",
    ")"
   ]
  },
  {
   "cell_type": "code",
   "execution_count": null,
   "metadata": {
    "colab": {
     "base_uri": "https://localhost:8080/",
     "height": 130
    },
    "id": "ycWBnX8vCYR6",
    "outputId": "d58573b9-7b42-46b2-b0d0-f33ba443d0f2"
   },
   "outputs": [
    {
     "ename": "SyntaxError",
     "evalue": "ignored",
     "output_type": "error",
     "traceback": [
      "\u001b[0;36m  File \u001b[0;32m\"<ipython-input-152-799bdc79f27f>\"\u001b[0;36m, line \u001b[0;32m4\u001b[0m\n\u001b[0;31m    'max_depth':[7]\u001b[0m\n\u001b[0m              ^\u001b[0m\n\u001b[0;31mSyntaxError\u001b[0m\u001b[0;31m:\u001b[0m invalid syntax\n"
     ]
    }
   ],
   "source": [
    "# param_grid = {\n",
    "#     'n_estimators':[300, 400, 500], \n",
    "#     'learning_rate':[0.001, 0.002, 0.6, 0.7]\n",
    "    # 'max_depth':[7,9,11], 7\n",
    "    # 'min_samples_split':[3,4,5], 5\n",
    "    # 'min_samples_leaf':[5,6,7],\n",
    "    # 'max_features':[0.8,0.9],\n",
    "    # 'loss':['ls', 'absolute_error', 'huber']\n",
    "# }"
   ]
  },
  {
   "cell_type": "code",
   "execution_count": null,
   "metadata": {
    "colab": {
     "base_uri": "https://localhost:8080/",
     "height": 165
    },
    "id": "8dpDe2JZC637",
    "outputId": "e130a664-edb2-4b3f-fadc-9ee3d606ee18"
   },
   "outputs": [
    {
     "ename": "NameError",
     "evalue": "ignored",
     "output_type": "error",
     "traceback": [
      "\u001b[0;31m---------------------------------------------------------------------------\u001b[0m",
      "\u001b[0;31mNameError\u001b[0m                                 Traceback (most recent call last)",
      "\u001b[0;32m<ipython-input-154-9af71527958a>\u001b[0m in \u001b[0;36m<module>\u001b[0;34m\u001b[0m\n\u001b[0;32m----> 1\u001b[0;31m \u001b[0mgs_cv\u001b[0m \u001b[0;34m=\u001b[0m \u001b[0mGridSearchCV\u001b[0m\u001b[0;34m(\u001b[0m\u001b[0mmodel\u001b[0m\u001b[0;34m,\u001b[0m \u001b[0mparam_grid\u001b[0m\u001b[0;34m,\u001b[0m \u001b[0mn_jobs\u001b[0m\u001b[0;34m=\u001b[0m\u001b[0;36m4\u001b[0m\u001b[0;34m)\u001b[0m\u001b[0;34m\u001b[0m\u001b[0;34m\u001b[0m\u001b[0m\n\u001b[0m",
      "\u001b[0;31mNameError\u001b[0m: name 'param_grid' is not defined"
     ]
    }
   ],
   "source": [
    "# gs_cv = GridSearchCV(model, param_grid, n_jobs=4)"
   ]
  },
  {
   "cell_type": "code",
   "execution_count": null,
   "metadata": {
    "colab": {
     "base_uri": "https://localhost:8080/",
     "height": 165
    },
    "id": "lkmzWEjLDCIK",
    "outputId": "7a18e872-c458-4f06-b692-b05eead1db32"
   },
   "outputs": [
    {
     "ename": "NameError",
     "evalue": "ignored",
     "output_type": "error",
     "traceback": [
      "\u001b[0;31m---------------------------------------------------------------------------\u001b[0m",
      "\u001b[0;31mNameError\u001b[0m                                 Traceback (most recent call last)",
      "\u001b[0;32m<ipython-input-153-bc8b12067532>\u001b[0m in \u001b[0;36m<module>\u001b[0;34m\u001b[0m\n\u001b[0;32m----> 1\u001b[0;31m \u001b[0mgs_cv\u001b[0m\u001b[0;34m.\u001b[0m\u001b[0mfit\u001b[0m\u001b[0;34m(\u001b[0m\u001b[0mX_train\u001b[0m\u001b[0;34m,\u001b[0m \u001b[0my_train\u001b[0m\u001b[0;34m)\u001b[0m\u001b[0;34m\u001b[0m\u001b[0;34m\u001b[0m\u001b[0m\n\u001b[0m",
      "\u001b[0;31mNameError\u001b[0m: name 'gs_cv' is not defined"
     ]
    }
   ],
   "source": [
    "# gs_cv.fit(X_train, y_train)"
   ]
  },
  {
   "cell_type": "code",
   "execution_count": null,
   "metadata": {
    "id": "1dsKMUp6DFvK"
   },
   "outputs": [],
   "source": [
    "# print(gs_cv.best_params_)"
   ]
  },
  {
   "cell_type": "code",
   "execution_count": null,
   "metadata": {
    "colab": {
     "base_uri": "https://localhost:8080/"
    },
    "id": "JEcl0zY4c0zd",
    "outputId": "9b411e6d-2750-4312-c079-44b78de8deaa"
   },
   "outputs": [
    {
     "data": {
      "text/plain": [
       "GradientBoostingRegressor(learning_rate=0.6, loss='absolute_error', max_depth=7,\n",
       "                          max_features=0.8, min_samples_leaf=5,\n",
       "                          min_samples_split=5, n_estimators=300)"
      ]
     },
     "execution_count": 296,
     "metadata": {},
     "output_type": "execute_result"
    }
   ],
   "source": [
    "model.fit(X_train, y_train)"
   ]
  },
  {
   "cell_type": "code",
   "execution_count": null,
   "metadata": {
    "colab": {
     "base_uri": "https://localhost:8080/"
    },
    "id": "RRBSxWsFedwK",
    "outputId": "42c81efe-a69a-4f82-e330-69a3b390f0fd"
   },
   "outputs": [
    {
     "data": {
      "text/plain": [
       "['house_trained_model.pkl']"
      ]
     },
     "execution_count": 224,
     "metadata": {},
     "output_type": "execute_result"
    }
   ],
   "source": [
    "# joblib.dump(model, 'house_trained_model.pkl')"
   ]
  },
  {
   "cell_type": "markdown",
   "metadata": {
    "id": "RwQxtioCd5Uv"
   },
   "source": [
    "# EVALUATE"
   ]
  },
  {
   "cell_type": "code",
   "execution_count": null,
   "metadata": {
    "colab": {
     "base_uri": "https://localhost:8080/"
    },
    "id": "mWFdGgeqeliv",
    "outputId": "b5165aaa-4271-4bd0-8b5d-acb72195ab84"
   },
   "outputs": [
    {
     "name": "stdout",
     "output_type": "stream",
     "text": [
      "Training Set MAE: 191874.02\n"
     ]
    }
   ],
   "source": [
    "mae = mean_absolute_error(y_train, model.predict(X_train))\n",
    "print(\"Training Set MAE: %.2f\" % mae)\n",
    "# 192077.77"
   ]
  },
  {
   "cell_type": "code",
   "execution_count": null,
   "metadata": {
    "colab": {
     "base_uri": "https://localhost:8080/"
    },
    "id": "hrSAIyniesRG",
    "outputId": "1b676681-86ef-4224-d375-1c441a9e2194"
   },
   "outputs": [
    {
     "name": "stdout",
     "output_type": "stream",
     "text": [
      "Testing Set MAE: 240505.63\n"
     ]
    }
   ],
   "source": [
    "mae = mean_absolute_error(y_test, model.predict(X_test))\n",
    "print(\"Testing Set MAE: %.2f\" % mae)\n",
    "# 240257.06"
   ]
  },
  {
   "cell_type": "markdown",
   "metadata": {
    "id": "RzMy404MFl5w"
   },
   "source": [
    "# REFERENCES\n",
    "\n",
    "*   https://www.realestate.com.au/advice/auction-hammer-falls-vendor-bid/#:~:text=What%20is%20a%20vendor%20bid,keep%20the%20bidding%20moving%20forward.\n",
    "*   https://www.greghocking.com.au/what-happens-if-a-property-is-passed-in-at-auction/#:~:text=When%20a%20property%20is%20passed,crowd%20or%20a%20vendor%20bid.\n",
    "*   https://www.therealestateconversation.com.au/blog/justin-nickerson/why-would-you-sell-property-prior-auction/justin-nickerson-auctioneer/justin#:~:text=Selling%20prior%20to%20auction%20usually,types%20of%20offers%20before%20auction.\n",
    "*   https://www.eigpropertyauctions.co.uk/information/glossary#:~:text=Buying%20After%20Auction,generally%20disclose%20the%20reserve%20price\n",
    "*   https://www.lawinsider.com/dictionary/sold-property#:~:text=More%20Definitions%20of%20Sold%20Property&text=Sold%20Property%20means%20any%20real,Property%20prior%20to%20the%20Closing.\n",
    "*   List item"
   ]
  },
  {
   "cell_type": "code",
   "execution_count": null,
   "metadata": {
    "id": "nS8zszAyFtUD"
   },
   "outputs": [],
   "source": []
  }
 ],
 "metadata": {
  "colab": {
   "collapsed_sections": [],
   "provenance": [],
   "toc_visible": true
  },
  "kernelspec": {
   "display_name": "Python 3 (ipykernel)",
   "language": "python",
   "name": "python3"
  },
  "language_info": {
   "codemirror_mode": {
    "name": "ipython",
    "version": 3
   },
   "file_extension": ".py",
   "mimetype": "text/x-python",
   "name": "python",
   "nbconvert_exporter": "python",
   "pygments_lexer": "ipython3",
   "version": "3.9.12"
  }
 },
 "nbformat": 4,
 "nbformat_minor": 4
}
